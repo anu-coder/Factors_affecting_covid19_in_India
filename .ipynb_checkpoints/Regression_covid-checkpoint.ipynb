{
 "cells": [
  {
   "cell_type": "code",
   "execution_count": 77,
   "metadata": {},
   "outputs": [],
   "source": [
    "import math \n",
    "import pandas as pd\n",
    "import numpy as np\n",
    "import matplotlib.pyplot as plt\n",
    "import plotly.express as px\n",
    "from sklearn import datasets, linear_model, metrics"
   ]
  },
  {
   "cell_type": "markdown",
   "metadata": {},
   "source": [
    "### A glimpse of the dataset\n",
    "\n",
    "__The confirmed cases column is the number of confirmed covid cases on '9th October, 2020' in India, \n",
    "obtain from the API at [covid19.org](https://api.covid19india.org/)__"
   ]
  },
  {
   "cell_type": "code",
   "execution_count": 5,
   "metadata": {},
   "outputs": [
    {
     "name": "stdout",
     "output_type": "stream",
     "text": [
      "['Sheet1']\n"
     ]
    },
    {
     "data": {
      "text/html": [
       "<div>\n",
       "<style scoped>\n",
       "    .dataframe tbody tr th:only-of-type {\n",
       "        vertical-align: middle;\n",
       "    }\n",
       "\n",
       "    .dataframe tbody tr th {\n",
       "        vertical-align: top;\n",
       "    }\n",
       "\n",
       "    .dataframe thead th {\n",
       "        text-align: right;\n",
       "    }\n",
       "</style>\n",
       "<table border=\"1\" class=\"dataframe\">\n",
       "  <thead>\n",
       "    <tr style=\"text-align: right;\">\n",
       "      <th></th>\n",
       "      <th>State</th>\n",
       "      <th>District</th>\n",
       "      <th>Confirmed</th>\n",
       "      <th>Population_2020</th>\n",
       "      <th>Populationdensity_2020</th>\n",
       "      <th>Household</th>\n",
       "      <th>Rural</th>\n",
       "      <th>Urban</th>\n",
       "      <th>Age_0_29</th>\n",
       "      <th>Age_29_49</th>\n",
       "      <th>Age_above_50</th>\n",
       "    </tr>\n",
       "  </thead>\n",
       "  <tbody>\n",
       "    <tr>\n",
       "      <td>0</td>\n",
       "      <td>AP</td>\n",
       "      <td>Anantapur</td>\n",
       "      <td>60285</td>\n",
       "      <td>4547714</td>\n",
       "      <td>238</td>\n",
       "      <td>164260</td>\n",
       "      <td>147245</td>\n",
       "      <td>17015</td>\n",
       "      <td>339845</td>\n",
       "      <td>122373</td>\n",
       "      <td>68346</td>\n",
       "    </tr>\n",
       "    <tr>\n",
       "      <td>1</td>\n",
       "      <td>AP</td>\n",
       "      <td>Chittoor</td>\n",
       "      <td>68903</td>\n",
       "      <td>4619631</td>\n",
       "      <td>305</td>\n",
       "      <td>236581</td>\n",
       "      <td>217187</td>\n",
       "      <td>19394</td>\n",
       "      <td>448511</td>\n",
       "      <td>169661</td>\n",
       "      <td>92293</td>\n",
       "    </tr>\n",
       "    <tr>\n",
       "      <td>2</td>\n",
       "      <td>AP</td>\n",
       "      <td>East Godavari</td>\n",
       "      <td>104636</td>\n",
       "      <td>5395785</td>\n",
       "      <td>499</td>\n",
       "      <td>225033</td>\n",
       "      <td>189973</td>\n",
       "      <td>35060</td>\n",
       "      <td>374830</td>\n",
       "      <td>167714</td>\n",
       "      <td>102315</td>\n",
       "    </tr>\n",
       "    <tr>\n",
       "      <td>3</td>\n",
       "      <td>AP</td>\n",
       "      <td>Guntur</td>\n",
       "      <td>58941</td>\n",
       "      <td>5322078</td>\n",
       "      <td>467</td>\n",
       "      <td>282447</td>\n",
       "      <td>229183</td>\n",
       "      <td>53264</td>\n",
       "      <td>692876</td>\n",
       "      <td>260876</td>\n",
       "      <td>142067</td>\n",
       "    </tr>\n",
       "    <tr>\n",
       "      <td>4</td>\n",
       "      <td>AP</td>\n",
       "      <td>Krishna</td>\n",
       "      <td>31020</td>\n",
       "      <td>4860085</td>\n",
       "      <td>557</td>\n",
       "      <td>181593</td>\n",
       "      <td>158304</td>\n",
       "      <td>23290</td>\n",
       "      <td>367646</td>\n",
       "      <td>147049</td>\n",
       "      <td>85967</td>\n",
       "    </tr>\n",
       "  </tbody>\n",
       "</table>\n",
       "</div>"
      ],
      "text/plain": [
       "  State       District  Confirmed  Population_2020  Populationdensity_2020  \\\n",
       "0    AP      Anantapur      60285          4547714                     238   \n",
       "1    AP       Chittoor      68903          4619631                     305   \n",
       "2    AP  East Godavari     104636          5395785                     499   \n",
       "3    AP         Guntur      58941          5322078                     467   \n",
       "4    AP        Krishna      31020          4860085                     557   \n",
       "\n",
       "   Household   Rural  Urban  Age_0_29  Age_29_49  Age_above_50  \n",
       "0     164260  147245  17015    339845     122373         68346  \n",
       "1     236581  217187  19394    448511     169661         92293  \n",
       "2     225033  189973  35060    374830     167714        102315  \n",
       "3     282447  229183  53264    692876     260876        142067  \n",
       "4     181593  158304  23290    367646     147049         85967  "
      ]
     },
     "execution_count": 5,
     "metadata": {},
     "output_type": "execute_result"
    }
   ],
   "source": [
    "data = pd.ExcelFile(\"covid_cases.xlsx\")\n",
    "print(data.sheet_names)\n",
    "data = data.parse('Sheet1')\n",
    "data.head()"
   ]
  },
  {
   "cell_type": "markdown",
   "metadata": {},
   "source": [
    "### Check a few things before visualizing:\n",
    "\n",
    "1. Total confirmed cases in India on 9th October, 2020\n",
    "2. Total confirmed cases statewise on 9th October, 2020"
   ]
  },
  {
   "cell_type": "code",
   "execution_count": 38,
   "metadata": {},
   "outputs": [
    {
     "data": {
      "text/plain": [
       "5431147"
      ]
     },
     "execution_count": 38,
     "metadata": {},
     "output_type": "execute_result"
    }
   ],
   "source": [
    "# 1. Total confirmed cases\n",
    "\n",
    "data['Confirmed'].sum()"
   ]
  },
  {
   "cell_type": "code",
   "execution_count": 46,
   "metadata": {},
   "outputs": [
    {
     "data": {
      "text/plain": [
       "{'AP': 705000,\n",
       " 'AR': 335,\n",
       " 'BR': 171766,\n",
       " 'CH': 12985,\n",
       " 'CT': 76554,\n",
       " 'DN': 1530,\n",
       " 'GJ': 139607,\n",
       " 'HP': 14159,\n",
       " 'HR': 102131,\n",
       " 'JH': 55304,\n",
       " 'JK': 74984,\n",
       " 'KA': 505346,\n",
       " 'KL': 268101,\n",
       " 'LA': 4987,\n",
       " 'MH': 1494734,\n",
       " 'ML': 4895,\n",
       " 'MP': 119417,\n",
       " 'MZ': 1399,\n",
       " 'OR': 166175,\n",
       " 'PB': 115829,\n",
       " 'PY': 26142,\n",
       " 'RJ': 147051,\n",
       " 'TN': 568250,\n",
       " 'TR': 5401,\n",
       " 'UP': 365033,\n",
       " 'UT': 44021,\n",
       " 'WB': 240011}"
      ]
     },
     "execution_count": 46,
     "metadata": {},
     "output_type": "execute_result"
    }
   ],
   "source": [
    "# 2. Total confirmed cases statewise\n",
    "\n",
    "{i: data[data['State']== i]['Confirmed'].sum() for i in data['State']}"
   ]
  },
  {
   "cell_type": "markdown",
   "metadata": {},
   "source": [
    "### Lets visualize a few things before we jump to regression\n",
    "\n",
    "1. confirmed cases of each state\n",
    "2. Projected Population density of each state on 2020\n",
    "3. Projected Urban, rural.\n",
    "4. And various projected age groups"
   ]
  },
  {
   "cell_type": "code",
   "execution_count": 47,
   "metadata": {},
   "outputs": [
    {
     "data": {
      "application/vnd.plotly.v1+json": {
       "config": {
        "plotlyServerURL": "https://plot.ly"
       },
       "data": [
        {
         "alignmentgroup": "True",
         "hovertemplate": "State=%{x}<br>Confirmed=%{y}<extra></extra>",
         "legendgroup": "",
         "marker": {
          "color": "#636efa"
         },
         "name": "",
         "offsetgroup": "",
         "orientation": "v",
         "showlegend": false,
         "textposition": "auto",
         "type": "bar",
         "x": [
          "AP",
          "AP",
          "AP",
          "AP",
          "AP",
          "AP",
          "AP",
          "AP",
          "AP",
          "AP",
          "AP",
          "AP",
          "AR",
          "BR",
          "BR",
          "BR",
          "BR",
          "BR",
          "BR",
          "BR",
          "BR",
          "BR",
          "BR",
          "BR",
          "BR",
          "BR",
          "BR",
          "BR",
          "BR",
          "BR",
          "BR",
          "BR",
          "BR",
          "BR",
          "BR",
          "BR",
          "BR",
          "BR",
          "BR",
          "BR",
          "BR",
          "BR",
          "BR",
          "BR",
          "BR",
          "BR",
          "CH",
          "CT",
          "CT",
          "CT",
          "CT",
          "CT",
          "CT",
          "CT",
          "DN",
          "GJ",
          "GJ",
          "GJ",
          "GJ",
          "GJ",
          "GJ",
          "GJ",
          "GJ",
          "GJ",
          "GJ",
          "GJ",
          "GJ",
          "GJ",
          "GJ",
          "GJ",
          "GJ",
          "GJ",
          "GJ",
          "GJ",
          "GJ",
          "GJ",
          "GJ",
          "GJ",
          "GJ",
          "GJ",
          "HP",
          "HP",
          "HP",
          "HP",
          "HP",
          "HP",
          "HP",
          "HP",
          "HR",
          "HR",
          "HR",
          "HR",
          "HR",
          "HR",
          "HR",
          "HR",
          "HR",
          "HR",
          "HR",
          "HR",
          "HR",
          "HR",
          "HR",
          "HR",
          "JH",
          "JH",
          "JH",
          "JH",
          "JH",
          "JH",
          "JH",
          "JH",
          "JH",
          "JH",
          "JH",
          "JH",
          "JH",
          "JK",
          "JK",
          "JK",
          "JK",
          "JK",
          "JK",
          "JK",
          "JK",
          "JK",
          "JK",
          "JK",
          "JK",
          "JK",
          "JK",
          "JK",
          "JK",
          "JK",
          "KA",
          "KA",
          "KA",
          "KA",
          "KA",
          "KA",
          "KA",
          "KA",
          "KA",
          "KA",
          "KA",
          "KA",
          "KA",
          "KA",
          "KA",
          "KA",
          "KA",
          "KL",
          "KL",
          "KL",
          "KL",
          "KL",
          "KL",
          "KL",
          "KL",
          "KL",
          "KL",
          "KL",
          "KL",
          "KL",
          "KL",
          "LA",
          "LA",
          "MH",
          "MH",
          "MH",
          "MH",
          "MH",
          "MH",
          "MH",
          "MH",
          "MH",
          "MH",
          "MH",
          "MH",
          "MH",
          "MH",
          "MH",
          "MH",
          "MH",
          "MH",
          "MH",
          "MH",
          "MH",
          "MH",
          "MH",
          "MH",
          "MH",
          "MH",
          "MH",
          "MH",
          "MH",
          "MH",
          "MH",
          "MH",
          "MH",
          "ML",
          "MP",
          "MP",
          "MP",
          "MP",
          "MP",
          "MP",
          "MP",
          "MP",
          "MP",
          "MP",
          "MP",
          "MP",
          "MP",
          "MP",
          "MP",
          "MP",
          "MP",
          "MP",
          "MP",
          "MP",
          "MP",
          "MP",
          "MP",
          "MP",
          "MP",
          "MP",
          "MP",
          "MP",
          "MP",
          "MP",
          "MP",
          "MP",
          "MP",
          "MZ",
          "OR",
          "OR",
          "OR",
          "OR",
          "OR",
          "OR",
          "OR",
          "OR",
          "OR",
          "OR",
          "OR",
          "OR",
          "OR",
          "OR",
          "OR",
          "OR",
          "PB",
          "PB",
          "PB",
          "PB",
          "PB",
          "PB",
          "PB",
          "PB",
          "PB",
          "PB",
          "PB",
          "PB",
          "PB",
          "PB",
          "PB",
          "PB",
          "PB",
          "PB",
          "PB",
          "PB",
          "PY",
          "PY",
          "RJ",
          "RJ",
          "RJ",
          "RJ",
          "RJ",
          "RJ",
          "RJ",
          "RJ",
          "RJ",
          "RJ",
          "RJ",
          "RJ",
          "RJ",
          "RJ",
          "RJ",
          "RJ",
          "RJ",
          "RJ",
          "RJ",
          "RJ",
          "RJ",
          "RJ",
          "RJ",
          "RJ",
          "RJ",
          "RJ",
          "RJ",
          "RJ",
          "RJ",
          "RJ",
          "TN",
          "TN",
          "TN",
          "TN",
          "TN",
          "TN",
          "TN",
          "TN",
          "TN",
          "TN",
          "TN",
          "TN",
          "TN",
          "TN",
          "TN",
          "TN",
          "TN",
          "TN",
          "TN",
          "TN",
          "TN",
          "TN",
          "TN",
          "TN",
          "TN",
          "TN",
          "TN",
          "TN",
          "TN",
          "TN",
          "TN",
          "TN",
          "TR",
          "TR",
          "UP",
          "UP",
          "UP",
          "UP",
          "UP",
          "UP",
          "UP",
          "UP",
          "UP",
          "UP",
          "UP",
          "UP",
          "UP",
          "UP",
          "UP",
          "UP",
          "UP",
          "UP",
          "UP",
          "UP",
          "UP",
          "UP",
          "UP",
          "UP",
          "UP",
          "UP",
          "UP",
          "UP",
          "UP",
          "UP",
          "UP",
          "UP",
          "UP",
          "UP",
          "UP",
          "UP",
          "UP",
          "UP",
          "UP",
          "UP",
          "UP",
          "UP",
          "UP",
          "UP",
          "UP",
          "UP",
          "UP",
          "UP",
          "UP",
          "UP",
          "UP",
          "UP",
          "UP",
          "UP",
          "UP",
          "UP",
          "UP",
          "UP",
          "UT",
          "UT",
          "UT",
          "UT",
          "UT",
          "UT",
          "WB",
          "WB",
          "WB",
          "WB",
          "WB",
          "WB",
          "WB",
          "WB",
          "WB",
          "WB",
          "WB",
          "WB",
          "WB"
         ],
         "xaxis": "x",
         "y": [
          60285,
          68903,
          104636,
          58941,
          31020,
          57811,
          53488,
          56068,
          41323,
          52037,
          73391,
          47097,
          335,
          5630,
          1925,
          3897,
          3897,
          2771,
          6542,
          7741,
          4297,
          3552,
          3326,
          7034,
          6047,
          4541,
          3207,
          1723,
          5991,
          2943,
          3683,
          6481,
          3190,
          6369,
          2945,
          30436,
          7037,
          5865,
          4359,
          5738,
          2498,
          1135,
          3520,
          3871,
          4458,
          5117,
          12985,
          1334,
          8762,
          13323,
          2529,
          4612,
          36877,
          9117,
          1530,
          38561,
          1194,
          2317,
          2462,
          4432,
          1728,
          109,
          4060,
          6910,
          3097,
          1371,
          2348,
          3119,
          1033,
          1250,
          2505,
          2059,
          506,
          10545,
          1237,
          31666,
          1958,
          707,
          13229,
          1204,
          984,
          951,
          996,
          2563,
          2028,
          1962,
          3277,
          1398,
          8416,
          3064,
          21187,
          2531,
          7187,
          2774,
          2347,
          2614,
          7788,
          5987,
          6492,
          7627,
          6511,
          4236,
          8801,
          4569,
          4444,
          2695,
          5502,
          1142,
          2280,
          3183,
          1767,
          3756,
          879,
          3113,
          2855,
          21975,
          1713,
          3734,
          3663,
          4811,
          5300,
          15051,
          2240,
          1486,
          2324,
          3841,
          4192,
          2952,
          1438,
          1115,
          1952,
          2085,
          16331,
          2469,
          11364,
          11763,
          272371,
          6652,
          8589,
          9260,
          25948,
          17987,
          18543,
          9810,
          9344,
          3376,
          13094,
          41058,
          16288,
          18987,
          10912,
          19252,
          26132,
          4781,
          15944,
          13925,
          20295,
          14329,
          27988,
          31300,
          16409,
          10251,
          42950,
          19899,
          4646,
          1754,
          3233,
          48807,
          7809,
          15161,
          38471,
          38471,
          11709,
          6908,
          8860,
          12135,
          13150,
          7903,
          3287,
          50655,
          8251,
          45567,
          19018,
          225073,
          85704,
          17414,
          5784,
          84358,
          13840,
          6016,
          312346,
          54985,
          9139,
          42371,
          41745,
          4391,
          39296,
          201580,
          4931,
          9599,
          4895,
          1008,
          1256,
          521,
          1937,
          2065,
          19338,
          751,
          1668,
          1675,
          2437,
          558,
          11168,
          1079,
          2089,
          28199,
          11109,
          1634,
          3554,
          1623,
          2667,
          740,
          1450,
          2168,
          1931,
          2762,
          1722,
          2147,
          1005,
          922,
          2405,
          874,
          3134,
          1821,
          1399,
          5130,
          8465,
          5831,
          22766,
          794,
          4275,
          20550,
          9332,
          5202,
          3884,
          6069,
          5057,
          42762,
          6558,
          11127,
          8373,
          11021,
          1911,
          6290,
          2930,
          2011,
          3977,
          6371,
          5002,
          13912,
          3723,
          19040,
          1742,
          2377,
          12072,
          2261,
          11195,
          3710,
          1768,
          2677,
          1839,
          546,
          25596,
          7846,
          12191,
          1331,
          1365,
          2957,
          4662,
          5233,
          8551,
          1941,
          2138,
          1183,
          3139,
          2095,
          1140,
          25393,
          979,
          2513,
          2024,
          23281,
          1019,
          9544,
          3962,
          6276,
          848,
          848,
          2087,
          973,
          4606,
          1480,
          5446,
          4042,
          179424,
          36332,
          21429,
          4449,
          9235,
          7976,
          23246,
          13600,
          3467,
          5304,
          17310,
          5716,
          6818,
          5141,
          1961,
          9781,
          5700,
          22706,
          5434,
          13348,
          15490,
          34388,
          8211,
          13994,
          11225,
          13372,
          9659,
          16390,
          16009,
          12371,
          14722,
          2999,
          2402,
          6253,
          8772,
          2470,
          4862,
          1375,
          3290,
          1629,
          2309,
          6573,
          11041,
          3948,
          3228,
          2889,
          3994,
          5870,
          1868,
          4348,
          2793,
          14709,
          15957,
          4039,
          4042,
          16855,
          1139,
          4859,
          2462,
          5310,
          7703,
          2619,
          1770,
          26452,
          1638,
          5013,
          5925,
          57069,
          4960,
          922,
          2861,
          4315,
          2547,
          11191,
          2580,
          9178,
          5256,
          3567,
          3910,
          3910,
          3193,
          4829,
          7358,
          2749,
          5933,
          1042,
          3357,
          3796,
          3466,
          3678,
          15362,
          1560,
          14809,
          10170,
          6372,
          2232,
          8878,
          4501,
          8747,
          14283,
          20123,
          6781,
          62903,
          7585,
          6712,
          8476,
          57832,
          10792,
          11974,
          19302
         ],
         "yaxis": "y"
        }
       ],
       "layout": {
        "barmode": "relative",
        "legend": {
         "tracegroupgap": 0
        },
        "margin": {
         "t": 60
        },
        "template": {
         "data": {
          "bar": [
           {
            "error_x": {
             "color": "#2a3f5f"
            },
            "error_y": {
             "color": "#2a3f5f"
            },
            "marker": {
             "line": {
              "color": "#E5ECF6",
              "width": 0.5
             }
            },
            "type": "bar"
           }
          ],
          "barpolar": [
           {
            "marker": {
             "line": {
              "color": "#E5ECF6",
              "width": 0.5
             }
            },
            "type": "barpolar"
           }
          ],
          "carpet": [
           {
            "aaxis": {
             "endlinecolor": "#2a3f5f",
             "gridcolor": "white",
             "linecolor": "white",
             "minorgridcolor": "white",
             "startlinecolor": "#2a3f5f"
            },
            "baxis": {
             "endlinecolor": "#2a3f5f",
             "gridcolor": "white",
             "linecolor": "white",
             "minorgridcolor": "white",
             "startlinecolor": "#2a3f5f"
            },
            "type": "carpet"
           }
          ],
          "choropleth": [
           {
            "colorbar": {
             "outlinewidth": 0,
             "ticks": ""
            },
            "type": "choropleth"
           }
          ],
          "contour": [
           {
            "colorbar": {
             "outlinewidth": 0,
             "ticks": ""
            },
            "colorscale": [
             [
              0,
              "#0d0887"
             ],
             [
              0.1111111111111111,
              "#46039f"
             ],
             [
              0.2222222222222222,
              "#7201a8"
             ],
             [
              0.3333333333333333,
              "#9c179e"
             ],
             [
              0.4444444444444444,
              "#bd3786"
             ],
             [
              0.5555555555555556,
              "#d8576b"
             ],
             [
              0.6666666666666666,
              "#ed7953"
             ],
             [
              0.7777777777777778,
              "#fb9f3a"
             ],
             [
              0.8888888888888888,
              "#fdca26"
             ],
             [
              1,
              "#f0f921"
             ]
            ],
            "type": "contour"
           }
          ],
          "contourcarpet": [
           {
            "colorbar": {
             "outlinewidth": 0,
             "ticks": ""
            },
            "type": "contourcarpet"
           }
          ],
          "heatmap": [
           {
            "colorbar": {
             "outlinewidth": 0,
             "ticks": ""
            },
            "colorscale": [
             [
              0,
              "#0d0887"
             ],
             [
              0.1111111111111111,
              "#46039f"
             ],
             [
              0.2222222222222222,
              "#7201a8"
             ],
             [
              0.3333333333333333,
              "#9c179e"
             ],
             [
              0.4444444444444444,
              "#bd3786"
             ],
             [
              0.5555555555555556,
              "#d8576b"
             ],
             [
              0.6666666666666666,
              "#ed7953"
             ],
             [
              0.7777777777777778,
              "#fb9f3a"
             ],
             [
              0.8888888888888888,
              "#fdca26"
             ],
             [
              1,
              "#f0f921"
             ]
            ],
            "type": "heatmap"
           }
          ],
          "heatmapgl": [
           {
            "colorbar": {
             "outlinewidth": 0,
             "ticks": ""
            },
            "colorscale": [
             [
              0,
              "#0d0887"
             ],
             [
              0.1111111111111111,
              "#46039f"
             ],
             [
              0.2222222222222222,
              "#7201a8"
             ],
             [
              0.3333333333333333,
              "#9c179e"
             ],
             [
              0.4444444444444444,
              "#bd3786"
             ],
             [
              0.5555555555555556,
              "#d8576b"
             ],
             [
              0.6666666666666666,
              "#ed7953"
             ],
             [
              0.7777777777777778,
              "#fb9f3a"
             ],
             [
              0.8888888888888888,
              "#fdca26"
             ],
             [
              1,
              "#f0f921"
             ]
            ],
            "type": "heatmapgl"
           }
          ],
          "histogram": [
           {
            "marker": {
             "colorbar": {
              "outlinewidth": 0,
              "ticks": ""
             }
            },
            "type": "histogram"
           }
          ],
          "histogram2d": [
           {
            "colorbar": {
             "outlinewidth": 0,
             "ticks": ""
            },
            "colorscale": [
             [
              0,
              "#0d0887"
             ],
             [
              0.1111111111111111,
              "#46039f"
             ],
             [
              0.2222222222222222,
              "#7201a8"
             ],
             [
              0.3333333333333333,
              "#9c179e"
             ],
             [
              0.4444444444444444,
              "#bd3786"
             ],
             [
              0.5555555555555556,
              "#d8576b"
             ],
             [
              0.6666666666666666,
              "#ed7953"
             ],
             [
              0.7777777777777778,
              "#fb9f3a"
             ],
             [
              0.8888888888888888,
              "#fdca26"
             ],
             [
              1,
              "#f0f921"
             ]
            ],
            "type": "histogram2d"
           }
          ],
          "histogram2dcontour": [
           {
            "colorbar": {
             "outlinewidth": 0,
             "ticks": ""
            },
            "colorscale": [
             [
              0,
              "#0d0887"
             ],
             [
              0.1111111111111111,
              "#46039f"
             ],
             [
              0.2222222222222222,
              "#7201a8"
             ],
             [
              0.3333333333333333,
              "#9c179e"
             ],
             [
              0.4444444444444444,
              "#bd3786"
             ],
             [
              0.5555555555555556,
              "#d8576b"
             ],
             [
              0.6666666666666666,
              "#ed7953"
             ],
             [
              0.7777777777777778,
              "#fb9f3a"
             ],
             [
              0.8888888888888888,
              "#fdca26"
             ],
             [
              1,
              "#f0f921"
             ]
            ],
            "type": "histogram2dcontour"
           }
          ],
          "mesh3d": [
           {
            "colorbar": {
             "outlinewidth": 0,
             "ticks": ""
            },
            "type": "mesh3d"
           }
          ],
          "parcoords": [
           {
            "line": {
             "colorbar": {
              "outlinewidth": 0,
              "ticks": ""
             }
            },
            "type": "parcoords"
           }
          ],
          "pie": [
           {
            "automargin": true,
            "type": "pie"
           }
          ],
          "scatter": [
           {
            "marker": {
             "colorbar": {
              "outlinewidth": 0,
              "ticks": ""
             }
            },
            "type": "scatter"
           }
          ],
          "scatter3d": [
           {
            "line": {
             "colorbar": {
              "outlinewidth": 0,
              "ticks": ""
             }
            },
            "marker": {
             "colorbar": {
              "outlinewidth": 0,
              "ticks": ""
             }
            },
            "type": "scatter3d"
           }
          ],
          "scattercarpet": [
           {
            "marker": {
             "colorbar": {
              "outlinewidth": 0,
              "ticks": ""
             }
            },
            "type": "scattercarpet"
           }
          ],
          "scattergeo": [
           {
            "marker": {
             "colorbar": {
              "outlinewidth": 0,
              "ticks": ""
             }
            },
            "type": "scattergeo"
           }
          ],
          "scattergl": [
           {
            "marker": {
             "colorbar": {
              "outlinewidth": 0,
              "ticks": ""
             }
            },
            "type": "scattergl"
           }
          ],
          "scattermapbox": [
           {
            "marker": {
             "colorbar": {
              "outlinewidth": 0,
              "ticks": ""
             }
            },
            "type": "scattermapbox"
           }
          ],
          "scatterpolar": [
           {
            "marker": {
             "colorbar": {
              "outlinewidth": 0,
              "ticks": ""
             }
            },
            "type": "scatterpolar"
           }
          ],
          "scatterpolargl": [
           {
            "marker": {
             "colorbar": {
              "outlinewidth": 0,
              "ticks": ""
             }
            },
            "type": "scatterpolargl"
           }
          ],
          "scatterternary": [
           {
            "marker": {
             "colorbar": {
              "outlinewidth": 0,
              "ticks": ""
             }
            },
            "type": "scatterternary"
           }
          ],
          "surface": [
           {
            "colorbar": {
             "outlinewidth": 0,
             "ticks": ""
            },
            "colorscale": [
             [
              0,
              "#0d0887"
             ],
             [
              0.1111111111111111,
              "#46039f"
             ],
             [
              0.2222222222222222,
              "#7201a8"
             ],
             [
              0.3333333333333333,
              "#9c179e"
             ],
             [
              0.4444444444444444,
              "#bd3786"
             ],
             [
              0.5555555555555556,
              "#d8576b"
             ],
             [
              0.6666666666666666,
              "#ed7953"
             ],
             [
              0.7777777777777778,
              "#fb9f3a"
             ],
             [
              0.8888888888888888,
              "#fdca26"
             ],
             [
              1,
              "#f0f921"
             ]
            ],
            "type": "surface"
           }
          ],
          "table": [
           {
            "cells": {
             "fill": {
              "color": "#EBF0F8"
             },
             "line": {
              "color": "white"
             }
            },
            "header": {
             "fill": {
              "color": "#C8D4E3"
             },
             "line": {
              "color": "white"
             }
            },
            "type": "table"
           }
          ]
         },
         "layout": {
          "annotationdefaults": {
           "arrowcolor": "#2a3f5f",
           "arrowhead": 0,
           "arrowwidth": 1
          },
          "coloraxis": {
           "colorbar": {
            "outlinewidth": 0,
            "ticks": ""
           }
          },
          "colorscale": {
           "diverging": [
            [
             0,
             "#8e0152"
            ],
            [
             0.1,
             "#c51b7d"
            ],
            [
             0.2,
             "#de77ae"
            ],
            [
             0.3,
             "#f1b6da"
            ],
            [
             0.4,
             "#fde0ef"
            ],
            [
             0.5,
             "#f7f7f7"
            ],
            [
             0.6,
             "#e6f5d0"
            ],
            [
             0.7,
             "#b8e186"
            ],
            [
             0.8,
             "#7fbc41"
            ],
            [
             0.9,
             "#4d9221"
            ],
            [
             1,
             "#276419"
            ]
           ],
           "sequential": [
            [
             0,
             "#0d0887"
            ],
            [
             0.1111111111111111,
             "#46039f"
            ],
            [
             0.2222222222222222,
             "#7201a8"
            ],
            [
             0.3333333333333333,
             "#9c179e"
            ],
            [
             0.4444444444444444,
             "#bd3786"
            ],
            [
             0.5555555555555556,
             "#d8576b"
            ],
            [
             0.6666666666666666,
             "#ed7953"
            ],
            [
             0.7777777777777778,
             "#fb9f3a"
            ],
            [
             0.8888888888888888,
             "#fdca26"
            ],
            [
             1,
             "#f0f921"
            ]
           ],
           "sequentialminus": [
            [
             0,
             "#0d0887"
            ],
            [
             0.1111111111111111,
             "#46039f"
            ],
            [
             0.2222222222222222,
             "#7201a8"
            ],
            [
             0.3333333333333333,
             "#9c179e"
            ],
            [
             0.4444444444444444,
             "#bd3786"
            ],
            [
             0.5555555555555556,
             "#d8576b"
            ],
            [
             0.6666666666666666,
             "#ed7953"
            ],
            [
             0.7777777777777778,
             "#fb9f3a"
            ],
            [
             0.8888888888888888,
             "#fdca26"
            ],
            [
             1,
             "#f0f921"
            ]
           ]
          },
          "colorway": [
           "#636efa",
           "#EF553B",
           "#00cc96",
           "#ab63fa",
           "#FFA15A",
           "#19d3f3",
           "#FF6692",
           "#B6E880",
           "#FF97FF",
           "#FECB52"
          ],
          "font": {
           "color": "#2a3f5f"
          },
          "geo": {
           "bgcolor": "white",
           "lakecolor": "white",
           "landcolor": "#E5ECF6",
           "showlakes": true,
           "showland": true,
           "subunitcolor": "white"
          },
          "hoverlabel": {
           "align": "left"
          },
          "hovermode": "closest",
          "mapbox": {
           "style": "light"
          },
          "paper_bgcolor": "white",
          "plot_bgcolor": "#E5ECF6",
          "polar": {
           "angularaxis": {
            "gridcolor": "white",
            "linecolor": "white",
            "ticks": ""
           },
           "bgcolor": "#E5ECF6",
           "radialaxis": {
            "gridcolor": "white",
            "linecolor": "white",
            "ticks": ""
           }
          },
          "scene": {
           "xaxis": {
            "backgroundcolor": "#E5ECF6",
            "gridcolor": "white",
            "gridwidth": 2,
            "linecolor": "white",
            "showbackground": true,
            "ticks": "",
            "zerolinecolor": "white"
           },
           "yaxis": {
            "backgroundcolor": "#E5ECF6",
            "gridcolor": "white",
            "gridwidth": 2,
            "linecolor": "white",
            "showbackground": true,
            "ticks": "",
            "zerolinecolor": "white"
           },
           "zaxis": {
            "backgroundcolor": "#E5ECF6",
            "gridcolor": "white",
            "gridwidth": 2,
            "linecolor": "white",
            "showbackground": true,
            "ticks": "",
            "zerolinecolor": "white"
           }
          },
          "shapedefaults": {
           "line": {
            "color": "#2a3f5f"
           }
          },
          "ternary": {
           "aaxis": {
            "gridcolor": "white",
            "linecolor": "white",
            "ticks": ""
           },
           "baxis": {
            "gridcolor": "white",
            "linecolor": "white",
            "ticks": ""
           },
           "bgcolor": "#E5ECF6",
           "caxis": {
            "gridcolor": "white",
            "linecolor": "white",
            "ticks": ""
           }
          },
          "title": {
           "x": 0.05
          },
          "xaxis": {
           "automargin": true,
           "gridcolor": "white",
           "linecolor": "white",
           "ticks": "",
           "title": {
            "standoff": 15
           },
           "zerolinecolor": "white",
           "zerolinewidth": 2
          },
          "yaxis": {
           "automargin": true,
           "gridcolor": "white",
           "linecolor": "white",
           "ticks": "",
           "title": {
            "standoff": 15
           },
           "zerolinecolor": "white",
           "zerolinewidth": 2
          }
         }
        },
        "xaxis": {
         "anchor": "y",
         "domain": [
          0,
          1
         ],
         "title": {
          "text": "State"
         }
        },
        "yaxis": {
         "anchor": "x",
         "domain": [
          0,
          1
         ],
         "title": {
          "text": "Confirmed"
         }
        }
       }
      },
      "text/html": [
       "<div>                            <div id=\"df3c2c47-fe2e-454b-9b25-488c5d7c2d88\" class=\"plotly-graph-div\" style=\"height:525px; width:100%;\"></div>            <script type=\"text/javascript\">                require([\"plotly\"], function(Plotly) {                    window.PLOTLYENV=window.PLOTLYENV || {};                                    if (document.getElementById(\"df3c2c47-fe2e-454b-9b25-488c5d7c2d88\")) {                    Plotly.newPlot(                        \"df3c2c47-fe2e-454b-9b25-488c5d7c2d88\",                        [{\"alignmentgroup\": \"True\", \"hovertemplate\": \"State=%{x}<br>Confirmed=%{y}<extra></extra>\", \"legendgroup\": \"\", \"marker\": {\"color\": \"#636efa\"}, \"name\": \"\", \"offsetgroup\": \"\", \"orientation\": \"v\", \"showlegend\": false, \"textposition\": \"auto\", \"type\": \"bar\", \"x\": [\"AP\", \"AP\", \"AP\", \"AP\", \"AP\", \"AP\", \"AP\", \"AP\", \"AP\", \"AP\", \"AP\", \"AP\", \"AR\", \"BR\", \"BR\", \"BR\", \"BR\", \"BR\", \"BR\", \"BR\", \"BR\", \"BR\", \"BR\", \"BR\", \"BR\", \"BR\", \"BR\", \"BR\", \"BR\", \"BR\", \"BR\", \"BR\", \"BR\", \"BR\", \"BR\", \"BR\", \"BR\", \"BR\", \"BR\", \"BR\", \"BR\", \"BR\", \"BR\", \"BR\", \"BR\", \"BR\", \"CH\", \"CT\", \"CT\", \"CT\", \"CT\", \"CT\", \"CT\", \"CT\", \"DN\", \"GJ\", \"GJ\", \"GJ\", \"GJ\", \"GJ\", \"GJ\", \"GJ\", \"GJ\", \"GJ\", \"GJ\", \"GJ\", \"GJ\", \"GJ\", \"GJ\", \"GJ\", \"GJ\", \"GJ\", \"GJ\", \"GJ\", \"GJ\", \"GJ\", \"GJ\", \"GJ\", \"GJ\", \"GJ\", \"HP\", \"HP\", \"HP\", \"HP\", \"HP\", \"HP\", \"HP\", \"HP\", \"HR\", \"HR\", \"HR\", \"HR\", \"HR\", \"HR\", \"HR\", \"HR\", \"HR\", \"HR\", \"HR\", \"HR\", \"HR\", \"HR\", \"HR\", \"HR\", \"JH\", \"JH\", \"JH\", \"JH\", \"JH\", \"JH\", \"JH\", \"JH\", \"JH\", \"JH\", \"JH\", \"JH\", \"JH\", \"JK\", \"JK\", \"JK\", \"JK\", \"JK\", \"JK\", \"JK\", \"JK\", \"JK\", \"JK\", \"JK\", \"JK\", \"JK\", \"JK\", \"JK\", \"JK\", \"JK\", \"KA\", \"KA\", \"KA\", \"KA\", \"KA\", \"KA\", \"KA\", \"KA\", \"KA\", \"KA\", \"KA\", \"KA\", \"KA\", \"KA\", \"KA\", \"KA\", \"KA\", \"KL\", \"KL\", \"KL\", \"KL\", \"KL\", \"KL\", \"KL\", \"KL\", \"KL\", \"KL\", \"KL\", \"KL\", \"KL\", \"KL\", \"LA\", \"LA\", \"MH\", \"MH\", \"MH\", \"MH\", \"MH\", \"MH\", \"MH\", \"MH\", \"MH\", \"MH\", \"MH\", \"MH\", \"MH\", \"MH\", \"MH\", \"MH\", \"MH\", \"MH\", \"MH\", \"MH\", \"MH\", \"MH\", \"MH\", \"MH\", \"MH\", \"MH\", \"MH\", \"MH\", \"MH\", \"MH\", \"MH\", \"MH\", \"MH\", \"ML\", \"MP\", \"MP\", \"MP\", \"MP\", \"MP\", \"MP\", \"MP\", \"MP\", \"MP\", \"MP\", \"MP\", \"MP\", \"MP\", \"MP\", \"MP\", \"MP\", \"MP\", \"MP\", \"MP\", \"MP\", \"MP\", \"MP\", \"MP\", \"MP\", \"MP\", \"MP\", \"MP\", \"MP\", \"MP\", \"MP\", \"MP\", \"MP\", \"MP\", \"MZ\", \"OR\", \"OR\", \"OR\", \"OR\", \"OR\", \"OR\", \"OR\", \"OR\", \"OR\", \"OR\", \"OR\", \"OR\", \"OR\", \"OR\", \"OR\", \"OR\", \"PB\", \"PB\", \"PB\", \"PB\", \"PB\", \"PB\", \"PB\", \"PB\", \"PB\", \"PB\", \"PB\", \"PB\", \"PB\", \"PB\", \"PB\", \"PB\", \"PB\", \"PB\", \"PB\", \"PB\", \"PY\", \"PY\", \"RJ\", \"RJ\", \"RJ\", \"RJ\", \"RJ\", \"RJ\", \"RJ\", \"RJ\", \"RJ\", \"RJ\", \"RJ\", \"RJ\", \"RJ\", \"RJ\", \"RJ\", \"RJ\", \"RJ\", \"RJ\", \"RJ\", \"RJ\", \"RJ\", \"RJ\", \"RJ\", \"RJ\", \"RJ\", \"RJ\", \"RJ\", \"RJ\", \"RJ\", \"RJ\", \"TN\", \"TN\", \"TN\", \"TN\", \"TN\", \"TN\", \"TN\", \"TN\", \"TN\", \"TN\", \"TN\", \"TN\", \"TN\", \"TN\", \"TN\", \"TN\", \"TN\", \"TN\", \"TN\", \"TN\", \"TN\", \"TN\", \"TN\", \"TN\", \"TN\", \"TN\", \"TN\", \"TN\", \"TN\", \"TN\", \"TN\", \"TN\", \"TR\", \"TR\", \"UP\", \"UP\", \"UP\", \"UP\", \"UP\", \"UP\", \"UP\", \"UP\", \"UP\", \"UP\", \"UP\", \"UP\", \"UP\", \"UP\", \"UP\", \"UP\", \"UP\", \"UP\", \"UP\", \"UP\", \"UP\", \"UP\", \"UP\", \"UP\", \"UP\", \"UP\", \"UP\", \"UP\", \"UP\", \"UP\", \"UP\", \"UP\", \"UP\", \"UP\", \"UP\", \"UP\", \"UP\", \"UP\", \"UP\", \"UP\", \"UP\", \"UP\", \"UP\", \"UP\", \"UP\", \"UP\", \"UP\", \"UP\", \"UP\", \"UP\", \"UP\", \"UP\", \"UP\", \"UP\", \"UP\", \"UP\", \"UP\", \"UP\", \"UT\", \"UT\", \"UT\", \"UT\", \"UT\", \"UT\", \"WB\", \"WB\", \"WB\", \"WB\", \"WB\", \"WB\", \"WB\", \"WB\", \"WB\", \"WB\", \"WB\", \"WB\", \"WB\"], \"xaxis\": \"x\", \"y\": [60285, 68903, 104636, 58941, 31020, 57811, 53488, 56068, 41323, 52037, 73391, 47097, 335, 5630, 1925, 3897, 3897, 2771, 6542, 7741, 4297, 3552, 3326, 7034, 6047, 4541, 3207, 1723, 5991, 2943, 3683, 6481, 3190, 6369, 2945, 30436, 7037, 5865, 4359, 5738, 2498, 1135, 3520, 3871, 4458, 5117, 12985, 1334, 8762, 13323, 2529, 4612, 36877, 9117, 1530, 38561, 1194, 2317, 2462, 4432, 1728, 109, 4060, 6910, 3097, 1371, 2348, 3119, 1033, 1250, 2505, 2059, 506, 10545, 1237, 31666, 1958, 707, 13229, 1204, 984, 951, 996, 2563, 2028, 1962, 3277, 1398, 8416, 3064, 21187, 2531, 7187, 2774, 2347, 2614, 7788, 5987, 6492, 7627, 6511, 4236, 8801, 4569, 4444, 2695, 5502, 1142, 2280, 3183, 1767, 3756, 879, 3113, 2855, 21975, 1713, 3734, 3663, 4811, 5300, 15051, 2240, 1486, 2324, 3841, 4192, 2952, 1438, 1115, 1952, 2085, 16331, 2469, 11364, 11763, 272371, 6652, 8589, 9260, 25948, 17987, 18543, 9810, 9344, 3376, 13094, 41058, 16288, 18987, 10912, 19252, 26132, 4781, 15944, 13925, 20295, 14329, 27988, 31300, 16409, 10251, 42950, 19899, 4646, 1754, 3233, 48807, 7809, 15161, 38471, 38471, 11709, 6908, 8860, 12135, 13150, 7903, 3287, 50655, 8251, 45567, 19018, 225073, 85704, 17414, 5784, 84358, 13840, 6016, 312346, 54985, 9139, 42371, 41745, 4391, 39296, 201580, 4931, 9599, 4895, 1008, 1256, 521, 1937, 2065, 19338, 751, 1668, 1675, 2437, 558, 11168, 1079, 2089, 28199, 11109, 1634, 3554, 1623, 2667, 740, 1450, 2168, 1931, 2762, 1722, 2147, 1005, 922, 2405, 874, 3134, 1821, 1399, 5130, 8465, 5831, 22766, 794, 4275, 20550, 9332, 5202, 3884, 6069, 5057, 42762, 6558, 11127, 8373, 11021, 1911, 6290, 2930, 2011, 3977, 6371, 5002, 13912, 3723, 19040, 1742, 2377, 12072, 2261, 11195, 3710, 1768, 2677, 1839, 546, 25596, 7846, 12191, 1331, 1365, 2957, 4662, 5233, 8551, 1941, 2138, 1183, 3139, 2095, 1140, 25393, 979, 2513, 2024, 23281, 1019, 9544, 3962, 6276, 848, 848, 2087, 973, 4606, 1480, 5446, 4042, 179424, 36332, 21429, 4449, 9235, 7976, 23246, 13600, 3467, 5304, 17310, 5716, 6818, 5141, 1961, 9781, 5700, 22706, 5434, 13348, 15490, 34388, 8211, 13994, 11225, 13372, 9659, 16390, 16009, 12371, 14722, 2999, 2402, 6253, 8772, 2470, 4862, 1375, 3290, 1629, 2309, 6573, 11041, 3948, 3228, 2889, 3994, 5870, 1868, 4348, 2793, 14709, 15957, 4039, 4042, 16855, 1139, 4859, 2462, 5310, 7703, 2619, 1770, 26452, 1638, 5013, 5925, 57069, 4960, 922, 2861, 4315, 2547, 11191, 2580, 9178, 5256, 3567, 3910, 3910, 3193, 4829, 7358, 2749, 5933, 1042, 3357, 3796, 3466, 3678, 15362, 1560, 14809, 10170, 6372, 2232, 8878, 4501, 8747, 14283, 20123, 6781, 62903, 7585, 6712, 8476, 57832, 10792, 11974, 19302], \"yaxis\": \"y\"}],                        {\"barmode\": \"relative\", \"legend\": {\"tracegroupgap\": 0}, \"margin\": {\"t\": 60}, \"template\": {\"data\": {\"bar\": [{\"error_x\": {\"color\": \"#2a3f5f\"}, \"error_y\": {\"color\": \"#2a3f5f\"}, \"marker\": {\"line\": {\"color\": \"#E5ECF6\", \"width\": 0.5}}, \"type\": \"bar\"}], \"barpolar\": [{\"marker\": {\"line\": {\"color\": \"#E5ECF6\", \"width\": 0.5}}, \"type\": \"barpolar\"}], \"carpet\": [{\"aaxis\": {\"endlinecolor\": \"#2a3f5f\", \"gridcolor\": \"white\", \"linecolor\": \"white\", \"minorgridcolor\": \"white\", \"startlinecolor\": \"#2a3f5f\"}, \"baxis\": {\"endlinecolor\": \"#2a3f5f\", \"gridcolor\": \"white\", \"linecolor\": \"white\", \"minorgridcolor\": \"white\", \"startlinecolor\": \"#2a3f5f\"}, \"type\": \"carpet\"}], \"choropleth\": [{\"colorbar\": {\"outlinewidth\": 0, \"ticks\": \"\"}, \"type\": \"choropleth\"}], \"contour\": [{\"colorbar\": {\"outlinewidth\": 0, \"ticks\": \"\"}, \"colorscale\": [[0.0, \"#0d0887\"], [0.1111111111111111, \"#46039f\"], [0.2222222222222222, \"#7201a8\"], [0.3333333333333333, \"#9c179e\"], [0.4444444444444444, \"#bd3786\"], [0.5555555555555556, \"#d8576b\"], [0.6666666666666666, \"#ed7953\"], [0.7777777777777778, \"#fb9f3a\"], [0.8888888888888888, \"#fdca26\"], [1.0, \"#f0f921\"]], \"type\": \"contour\"}], \"contourcarpet\": [{\"colorbar\": {\"outlinewidth\": 0, \"ticks\": \"\"}, \"type\": \"contourcarpet\"}], \"heatmap\": [{\"colorbar\": {\"outlinewidth\": 0, \"ticks\": \"\"}, \"colorscale\": [[0.0, \"#0d0887\"], [0.1111111111111111, \"#46039f\"], [0.2222222222222222, \"#7201a8\"], [0.3333333333333333, \"#9c179e\"], [0.4444444444444444, \"#bd3786\"], [0.5555555555555556, \"#d8576b\"], [0.6666666666666666, \"#ed7953\"], [0.7777777777777778, \"#fb9f3a\"], [0.8888888888888888, \"#fdca26\"], [1.0, \"#f0f921\"]], \"type\": \"heatmap\"}], \"heatmapgl\": [{\"colorbar\": {\"outlinewidth\": 0, \"ticks\": \"\"}, \"colorscale\": [[0.0, \"#0d0887\"], [0.1111111111111111, \"#46039f\"], [0.2222222222222222, \"#7201a8\"], [0.3333333333333333, \"#9c179e\"], [0.4444444444444444, \"#bd3786\"], [0.5555555555555556, \"#d8576b\"], [0.6666666666666666, \"#ed7953\"], [0.7777777777777778, \"#fb9f3a\"], [0.8888888888888888, \"#fdca26\"], [1.0, \"#f0f921\"]], \"type\": \"heatmapgl\"}], \"histogram\": [{\"marker\": {\"colorbar\": {\"outlinewidth\": 0, \"ticks\": \"\"}}, \"type\": \"histogram\"}], \"histogram2d\": [{\"colorbar\": {\"outlinewidth\": 0, \"ticks\": \"\"}, \"colorscale\": [[0.0, \"#0d0887\"], [0.1111111111111111, \"#46039f\"], [0.2222222222222222, \"#7201a8\"], [0.3333333333333333, \"#9c179e\"], [0.4444444444444444, \"#bd3786\"], [0.5555555555555556, \"#d8576b\"], [0.6666666666666666, \"#ed7953\"], [0.7777777777777778, \"#fb9f3a\"], [0.8888888888888888, \"#fdca26\"], [1.0, \"#f0f921\"]], \"type\": \"histogram2d\"}], \"histogram2dcontour\": [{\"colorbar\": {\"outlinewidth\": 0, \"ticks\": \"\"}, \"colorscale\": [[0.0, \"#0d0887\"], [0.1111111111111111, \"#46039f\"], [0.2222222222222222, \"#7201a8\"], [0.3333333333333333, \"#9c179e\"], [0.4444444444444444, \"#bd3786\"], [0.5555555555555556, \"#d8576b\"], [0.6666666666666666, \"#ed7953\"], [0.7777777777777778, \"#fb9f3a\"], [0.8888888888888888, \"#fdca26\"], [1.0, \"#f0f921\"]], \"type\": \"histogram2dcontour\"}], \"mesh3d\": [{\"colorbar\": {\"outlinewidth\": 0, \"ticks\": \"\"}, \"type\": \"mesh3d\"}], \"parcoords\": [{\"line\": {\"colorbar\": {\"outlinewidth\": 0, \"ticks\": \"\"}}, \"type\": \"parcoords\"}], \"pie\": [{\"automargin\": true, \"type\": \"pie\"}], \"scatter\": [{\"marker\": {\"colorbar\": {\"outlinewidth\": 0, \"ticks\": \"\"}}, \"type\": \"scatter\"}], \"scatter3d\": [{\"line\": {\"colorbar\": {\"outlinewidth\": 0, \"ticks\": \"\"}}, \"marker\": {\"colorbar\": {\"outlinewidth\": 0, \"ticks\": \"\"}}, \"type\": \"scatter3d\"}], \"scattercarpet\": [{\"marker\": {\"colorbar\": {\"outlinewidth\": 0, \"ticks\": \"\"}}, \"type\": \"scattercarpet\"}], \"scattergeo\": [{\"marker\": {\"colorbar\": {\"outlinewidth\": 0, \"ticks\": \"\"}}, \"type\": \"scattergeo\"}], \"scattergl\": [{\"marker\": {\"colorbar\": {\"outlinewidth\": 0, \"ticks\": \"\"}}, \"type\": \"scattergl\"}], \"scattermapbox\": [{\"marker\": {\"colorbar\": {\"outlinewidth\": 0, \"ticks\": \"\"}}, \"type\": \"scattermapbox\"}], \"scatterpolar\": [{\"marker\": {\"colorbar\": {\"outlinewidth\": 0, \"ticks\": \"\"}}, \"type\": \"scatterpolar\"}], \"scatterpolargl\": [{\"marker\": {\"colorbar\": {\"outlinewidth\": 0, \"ticks\": \"\"}}, \"type\": \"scatterpolargl\"}], \"scatterternary\": [{\"marker\": {\"colorbar\": {\"outlinewidth\": 0, \"ticks\": \"\"}}, \"type\": \"scatterternary\"}], \"surface\": [{\"colorbar\": {\"outlinewidth\": 0, \"ticks\": \"\"}, \"colorscale\": [[0.0, \"#0d0887\"], [0.1111111111111111, \"#46039f\"], [0.2222222222222222, \"#7201a8\"], [0.3333333333333333, \"#9c179e\"], [0.4444444444444444, \"#bd3786\"], [0.5555555555555556, \"#d8576b\"], [0.6666666666666666, \"#ed7953\"], [0.7777777777777778, \"#fb9f3a\"], [0.8888888888888888, \"#fdca26\"], [1.0, \"#f0f921\"]], \"type\": \"surface\"}], \"table\": [{\"cells\": {\"fill\": {\"color\": \"#EBF0F8\"}, \"line\": {\"color\": \"white\"}}, \"header\": {\"fill\": {\"color\": \"#C8D4E3\"}, \"line\": {\"color\": \"white\"}}, \"type\": \"table\"}]}, \"layout\": {\"annotationdefaults\": {\"arrowcolor\": \"#2a3f5f\", \"arrowhead\": 0, \"arrowwidth\": 1}, \"coloraxis\": {\"colorbar\": {\"outlinewidth\": 0, \"ticks\": \"\"}}, \"colorscale\": {\"diverging\": [[0, \"#8e0152\"], [0.1, \"#c51b7d\"], [0.2, \"#de77ae\"], [0.3, \"#f1b6da\"], [0.4, \"#fde0ef\"], [0.5, \"#f7f7f7\"], [0.6, \"#e6f5d0\"], [0.7, \"#b8e186\"], [0.8, \"#7fbc41\"], [0.9, \"#4d9221\"], [1, \"#276419\"]], \"sequential\": [[0.0, \"#0d0887\"], [0.1111111111111111, \"#46039f\"], [0.2222222222222222, \"#7201a8\"], [0.3333333333333333, \"#9c179e\"], [0.4444444444444444, \"#bd3786\"], [0.5555555555555556, \"#d8576b\"], [0.6666666666666666, \"#ed7953\"], [0.7777777777777778, \"#fb9f3a\"], [0.8888888888888888, \"#fdca26\"], [1.0, \"#f0f921\"]], \"sequentialminus\": [[0.0, \"#0d0887\"], [0.1111111111111111, \"#46039f\"], [0.2222222222222222, \"#7201a8\"], [0.3333333333333333, \"#9c179e\"], [0.4444444444444444, \"#bd3786\"], [0.5555555555555556, \"#d8576b\"], [0.6666666666666666, \"#ed7953\"], [0.7777777777777778, \"#fb9f3a\"], [0.8888888888888888, \"#fdca26\"], [1.0, \"#f0f921\"]]}, \"colorway\": [\"#636efa\", \"#EF553B\", \"#00cc96\", \"#ab63fa\", \"#FFA15A\", \"#19d3f3\", \"#FF6692\", \"#B6E880\", \"#FF97FF\", \"#FECB52\"], \"font\": {\"color\": \"#2a3f5f\"}, \"geo\": {\"bgcolor\": \"white\", \"lakecolor\": \"white\", \"landcolor\": \"#E5ECF6\", \"showlakes\": true, \"showland\": true, \"subunitcolor\": \"white\"}, \"hoverlabel\": {\"align\": \"left\"}, \"hovermode\": \"closest\", \"mapbox\": {\"style\": \"light\"}, \"paper_bgcolor\": \"white\", \"plot_bgcolor\": \"#E5ECF6\", \"polar\": {\"angularaxis\": {\"gridcolor\": \"white\", \"linecolor\": \"white\", \"ticks\": \"\"}, \"bgcolor\": \"#E5ECF6\", \"radialaxis\": {\"gridcolor\": \"white\", \"linecolor\": \"white\", \"ticks\": \"\"}}, \"scene\": {\"xaxis\": {\"backgroundcolor\": \"#E5ECF6\", \"gridcolor\": \"white\", \"gridwidth\": 2, \"linecolor\": \"white\", \"showbackground\": true, \"ticks\": \"\", \"zerolinecolor\": \"white\"}, \"yaxis\": {\"backgroundcolor\": \"#E5ECF6\", \"gridcolor\": \"white\", \"gridwidth\": 2, \"linecolor\": \"white\", \"showbackground\": true, \"ticks\": \"\", \"zerolinecolor\": \"white\"}, \"zaxis\": {\"backgroundcolor\": \"#E5ECF6\", \"gridcolor\": \"white\", \"gridwidth\": 2, \"linecolor\": \"white\", \"showbackground\": true, \"ticks\": \"\", \"zerolinecolor\": \"white\"}}, \"shapedefaults\": {\"line\": {\"color\": \"#2a3f5f\"}}, \"ternary\": {\"aaxis\": {\"gridcolor\": \"white\", \"linecolor\": \"white\", \"ticks\": \"\"}, \"baxis\": {\"gridcolor\": \"white\", \"linecolor\": \"white\", \"ticks\": \"\"}, \"bgcolor\": \"#E5ECF6\", \"caxis\": {\"gridcolor\": \"white\", \"linecolor\": \"white\", \"ticks\": \"\"}}, \"title\": {\"x\": 0.05}, \"xaxis\": {\"automargin\": true, \"gridcolor\": \"white\", \"linecolor\": \"white\", \"ticks\": \"\", \"title\": {\"standoff\": 15}, \"zerolinecolor\": \"white\", \"zerolinewidth\": 2}, \"yaxis\": {\"automargin\": true, \"gridcolor\": \"white\", \"linecolor\": \"white\", \"ticks\": \"\", \"title\": {\"standoff\": 15}, \"zerolinecolor\": \"white\", \"zerolinewidth\": 2}}}, \"xaxis\": {\"anchor\": \"y\", \"domain\": [0.0, 1.0], \"title\": {\"text\": \"State\"}}, \"yaxis\": {\"anchor\": \"x\", \"domain\": [0.0, 1.0], \"title\": {\"text\": \"Confirmed\"}}},                        {\"responsive\": true}                    ).then(function(){\n",
       "                            \n",
       "var gd = document.getElementById('df3c2c47-fe2e-454b-9b25-488c5d7c2d88');\n",
       "var x = new MutationObserver(function (mutations, observer) {{\n",
       "        var display = window.getComputedStyle(gd).display;\n",
       "        if (!display || display === 'none') {{\n",
       "            console.log([gd, 'removed!']);\n",
       "            Plotly.purge(gd);\n",
       "            observer.disconnect();\n",
       "        }}\n",
       "}});\n",
       "\n",
       "// Listen for the removal of the full notebook cells\n",
       "var notebookContainer = gd.closest('#notebook-container');\n",
       "if (notebookContainer) {{\n",
       "    x.observe(notebookContainer, {childList: true});\n",
       "}}\n",
       "\n",
       "// Listen for the clearing of the current output cell\n",
       "var outputEl = gd.closest('.output');\n",
       "if (outputEl) {{\n",
       "    x.observe(outputEl, {childList: true});\n",
       "}}\n",
       "\n",
       "                        })                };                });            </script>        </div>"
      ]
     },
     "metadata": {},
     "output_type": "display_data"
    }
   ],
   "source": [
    "#1. Confirmed cases of each group\n",
    "fig = px.bar(\n",
    "    data, x = 'State', y = 'Confirmed')\n",
    "fig.show()"
   ]
  },
  {
   "cell_type": "code",
   "execution_count": 50,
   "metadata": {},
   "outputs": [],
   "source": [
    "# from plotly.subplots import make_subplots\n",
    "# import plotly.graph_objects as go"
   ]
  },
  {
   "cell_type": "code",
   "execution_count": 75,
   "metadata": {},
   "outputs": [],
   "source": [
    "# fig = make_subplots(\n",
    "#     rows=2, cols=2,\n",
    "#     subplot_titles=(\"Confirmed cases\",\n",
    "#                    \"Population density\",\n",
    "#                    \"State vs urban\",\n",
    "#                    \"State vs above 50\"))\n",
    "\n",
    "# fig.add_trace(\n",
    "#          go.Bar(data, x = 'State', y = 'Populationdensity_2020'), \n",
    "#          row=1, col=1)\n",
    "\n",
    "# fig.add_trace(\n",
    "#     go.Bar(data, x= 'State', y = 'Confirmed'),\n",
    "#     row = 1, col = 2)\n",
    "\n",
    "# fig.add_trace(\n",
    "#     go.Bar(data, x = 'State', y='Urban'),\n",
    "#     row = 2, col=1)\n",
    "\n",
    "# fig.add_trace(\n",
    "#     go.Bar(data, x = 'State', y='Rural'),\n",
    "#     row = 2, col=2)\n",
    "\n",
    "# fig.update_layout(height=500, width=700,\n",
    "#                  title_text='Multiple subplots with title')\n",
    "\n",
    "# fig.show()"
   ]
  },
  {
   "cell_type": "code",
   "execution_count": 74,
   "metadata": {},
   "outputs": [
    {
     "data": {
      "application/vnd.plotly.v1+json": {
       "config": {
        "plotlyServerURL": "https://plot.ly"
       },
       "data": [
        {
         "hovertemplate": "x=%{x}<br>y=%{y}<extra></extra>",
         "legendgroup": "",
         "marker": {
          "color": "#636efa",
          "opacity": 0.65,
          "symbol": "circle"
         },
         "mode": "markers",
         "name": "",
         "orientation": "v",
         "showlegend": false,
         "type": "scatter",
         "x": [
          11.006838595551411,
          11.140454997418148,
          11.558242939660687,
          10.984292222554274,
          10.34238743673053,
          10.964934347972234,
          10.88721260865988,
          10.934320518782949,
          10.629174524663854,
          10.859710283001629,
          11.20355659128086,
          10.759964583708427,
          5.814130531825066,
          8.635864721133736,
          7.562681246721884,
          8.26796230533871,
          8.26796230533871,
          7.9269635448629785,
          8.785998208098329,
          8.954286157204713,
          8.365672383774996,
          8.17526610411206,
          8.109525659752872,
          8.858510813033927,
          8.707317560273212,
          8.420902531097951,
          8.073091199693154,
          7.45182223652793,
          8.698013622083925,
          7.987184748233473,
          8.211482916445066,
          8.776630098427717,
          8.06777619577889,
          8.759197750371365,
          7.987864096085687,
          10.323381397296414,
          8.85893722196655,
          8.676757761087575,
          8.379997952238393,
          8.65486599654131,
          7.823245690685523,
          7.034387929915503,
          8.166216268592143,
          8.261268150577648,
          8.402455513945814,
          8.540323608805092,
          9.471550124096849,
          7.195937226475569,
          9.078179468373843,
          9.497247143960212,
          7.835579246669965,
          8.436416881388949,
          10.515343329459467,
          9.117896081584902,
          7.333023014386481,
          10.55999668199817,
          7.085064293952548,
          7.748028524432376,
          7.808729306744399,
          8.39660622842712,
          7.454719949364001,
          4.6913478822291435,
          8.308938252595778,
          8.840724916761715,
          8.038189179973203,
          7.223295679562314,
          7.761319180947987,
          8.045267716607803,
          6.940222469119639,
          7.1308988302963465,
          7.826044013518965,
          7.629975707027789,
          6.226536669287466,
          9.263407092912875,
          7.1204443723924875,
          10.362998829061379,
          7.579678823090456,
          6.561030665896573,
          9.49016666846238,
          7.093404625868766,
          6.891625897052253,
          6.85751406254539,
          6.903747257584598,
          7.848933726364071,
          7.614805364711073,
          7.581719640125308,
          8.094683648698815,
          7.242797922793756,
          9.03788993497749,
          8.027476530860483,
          9.96114306502429,
          7.836369760545124,
          8.880029117468442,
          7.928045600874777,
          7.760893195851024,
          7.868636894184167,
          8.960339366492091,
          8.697345730925353,
          8.778325928634482,
          8.939449862164238,
          8.781248333236862,
          8.351374706721296,
          9.082620630373812,
          8.427049641563272,
          8.39931015075952,
          7.899153483343097,
          8.61286694148452,
          7.040536390215956,
          7.731930721948486,
          8.065579427282092,
          7.4770384723196965,
          8.231109840328154,
          6.778784897685177,
          8.043342170441608,
          7.956827122090111,
          9.997660722553377,
          7.44600149832412,
          8.225235324101668,
          8.206037762778815,
          8.478660241699453,
          8.575462099540212,
          9.619199713152362,
          7.7142311448490855,
          7.303843225277705,
          7.751045117971802,
          8.253488028345904,
          8.340933226000878,
          7.990238185720363,
          7.271008538280992,
          7.016609683894219,
          7.5766097669730375,
          7.642524134232902,
          9.700820421076743,
          7.81156848934518,
          9.338205742974079,
          9.372714290960442,
          12.514920386503473,
          8.802672840312818,
          9.058237593766226,
          9.133459327640225,
          10.163849814332947,
          9.79740455372797,
          9.827847638327382,
          9.191157552559408,
          9.142489705068009,
          8.124446855715847,
          9.479909389001037,
          10.622740980180552,
          9.69818391935025,
          9.851509813443416,
          9.297618380083243,
          9.865370230423,
          10.170915895960642,
          8.472405008626103,
          9.676837861892631,
          9.541441064795485,
          9.918129829272997,
          9.570040734716603,
          10.239531125865787,
          10.351373376528244,
          9.70558524377515,
          9.235130540783402,
          10.667791927412402,
          9.898424758193666,
          8.443761913330354,
          7.469654172932128,
          8.081165777725433,
          10.79562902417728,
          8.963032193662675,
          9.62648162008158,
          10.557659989689753,
          10.557659989689753,
          9.368113055848724,
          8.84043543926657,
          9.089302043599126,
          9.403849118160702,
          9.48417703760591,
          8.974997713204976,
          8.097730573664219,
          10.832793221487778,
          9.018089684104343,
          10.726939049306129,
          9.85314117809939,
          12.324180073010284,
          11.358654777942395,
          9.765029759388561,
          8.6628507638386,
          11.342824926393229,
          9.535318229171661,
          8.702177865629675,
          12.651866826692766,
          10.914815699745034,
          9.120306249272202,
          10.654219444947001,
          10.639334962628102,
          8.387312270561717,
          10.578878011506815,
          12.21394160390887,
          8.503297086224126,
          9.169414205363537,
          8.49596955496461,
          6.915723448631314,
          7.135687347028144,
          6.255750041753367,
          7.5688956634069955,
          7.632885505395133,
          9.869827351043494,
          6.621405651764134,
          7.419380582918692,
          7.423568444259167,
          7.798523053625206,
          6.324358962381311,
          9.320807825002154,
          6.983789965258135,
          7.644440761556566,
          10.247041795304542,
          9.315510869581722,
          7.3987862754199485,
          8.175829008714597,
          7.392031567514591,
          7.888709524182015,
          6.606650186198215,
          7.27931883541462,
          7.681560362559537,
          7.565793282428515,
          7.923710333969238,
          7.451241684987676,
          7.671826797878781,
          6.912742820493176,
          6.826545223556594,
          7.785305182539862,
          6.773080375655535,
          8.050065422915965,
          7.507141079727608,
          7.243512974665482,
          8.542860938164814,
          9.043695294567236,
          8.670943791222156,
          10.033023473885162,
          6.677083461247136,
          8.360539381370861,
          9.930616219924381,
          9.14120463314132,
          8.556798446008598,
          8.264620829411216,
          8.710949125835855,
          8.528528701079983,
          10.663405136729926,
          8.788440957404594,
          9.3171298661577,
          9.032767522204432,
          9.307557822691543,
          7.555381944240273,
          8.746716349694486,
          7.982757702011113,
          7.606387389772652,
          8.28828304520769,
          8.759511722116487,
          8.517593111437565,
          9.54050705603412,
          8.222285073872717,
          9.854297308345357,
          7.462789157412448,
          7.773594467360194,
          9.398644000447685,
          7.72356247227797,
          9.323222529032856,
          8.21878715560148,
          7.477604243197589,
          7.892452043520352,
          7.516977224604321,
          6.302618975744905,
          10.150191368259351,
          8.967759126769497,
          9.408453253565146,
          7.193685818395112,
          7.21890970761906,
          7.9919305198524775,
          8.447199819595703,
          8.562740006372207,
          9.053803514155955,
          7.57095858316901,
          7.6676260915849905,
          7.075808863978387,
          8.051659556841953,
          7.647308832356238,
          7.038783541388542,
          10.142228824473392,
          6.88653164253051,
          7.829232537543592,
          7.6128310304073565,
          10.05539285624928,
          6.926577033222725,
          9.163667963777751,
          8.284504227258497,
          8.744488113852924,
          6.742880635791903,
          6.742880635791903,
          7.643482907077201,
          6.880384082186005,
          8.43511508038063,
          7.299797366758161,
          8.602636673233706,
          8.304494897963567,
          12.097506998923398,
          10.500454174622105,
          9.972500423823082,
          8.400434630806041,
          9.13075589263334,
          8.984192311641674,
          10.053888353203654,
          9.517825071724143,
          8.151044945685024,
          8.576216531865699,
          9.759039648170255,
          8.651024539049757,
          8.827321452697849,
          8.545002892055505,
          7.581209826196346,
          9.188197007290492,
          8.648221453822641,
          10.030384485724479,
          8.600430789986293,
          9.499121839871265,
          9.647949933410914,
          10.445462945294334,
          9.01322999770879,
          9.546383945305841,
          9.325898712610455,
          9.500918247539989,
          9.175645402179295,
          9.704426671737876,
          9.680906343078094,
          9.423110302862831,
          9.59709825261865,
          8.00603417874901,
          7.784057002639929,
          8.740816627567298,
          9.079320109537779,
          7.8119734296220225,
          8.48920515487607,
          7.226209010100671,
          8.098642843759418,
          7.395721608602045,
          7.744569809354496,
          8.790725628263576,
          9.309370895439137,
          8.280964400553373,
          8.07961802938984,
          7.968665700466235,
          8.29254851397576,
          8.677609912822142,
          7.532623618788788,
          8.3774712482411,
          7.934871565945177,
          9.596214830319344,
          9.677652883410428,
          8.303752415563412,
          8.304494897963567,
          9.732402627668161,
          7.037905963447182,
          8.488587934405903,
          7.808729306744399,
          8.577347114235984,
          8.949365142352965,
          7.870547844507712,
          7.478734825567875,
          10.183087048794553,
          7.401231264413015,
          8.519789817263504,
          8.686935966003333,
          10.95201634103625,
          8.509161019718974,
          6.826545223556594,
          7.95892649305011,
          8.36985260351753,
          7.842671474979457,
          9.322865162818028,
          7.855544677915663,
          9.124564594954778,
          8.567125560164447,
          8.17948018535889,
          8.271292652979412,
          8.271292652979412,
          8.068716192714781,
          8.482394685873542,
          8.90354343566472,
          7.918992488165245,
          8.688285266258644,
          6.948897222313312,
          8.118802996980035,
          8.241703159729818,
          8.150756470275551,
          8.210124405164267,
          9.639652206558628,
          7.352441100243583,
          9.602990383037504,
          9.227197489042606,
          8.759668671029939,
          7.710653323501202,
          9.09133158539398,
          8.412054873292933,
          9.076466063419854,
          9.566825297862628,
          9.909618718466369,
          8.821879862683842,
          11.04934913630475,
          8.933927891782632,
          8.811652248147043,
          9.04499391938819,
          10.965297534680133,
          9.286560397887591,
          9.390492911485298,
          9.867963996467081
         ],
         "xaxis": "x",
         "y": [
          5.472270673671475,
          5.720311776607412,
          6.212606095751519,
          6.1463292576688975,
          6.322565239927284,
          5.568344503761097,
          5.356586274672012,
          5.521460917862246,
          6.194405391104672,
          6.059123195581797,
          6.263398262591624,
          5.41610040220442,
          4.248495242049359,
          7.167809184316444,
          7.170119543449628,
          6.8658910748834385,
          6.148468295917647,
          6.7464121285733745,
          7.575071699507561,
          7.2991214627108,
          7.195937226475569,
          7.150701457592526,
          7.6246189861593985,
          7.416378479192928,
          7.014814351275545,
          7.307202314764738,
          6.767343125265392,
          6.413458957167357,
          7.1372784372603855,
          6.922643891475888,
          7.237778191923443,
          7.38025578842646,
          7.037905963447182,
          7.297091005160418,
          6.992096427415888,
          7.708410667257367,
          7.1731917424865985,
          6.8308742346461795,
          7.516433302915632,
          7.4821189235521155,
          7.013915474810528,
          7.543273346705446,
          7.594381242551817,
          7.512071245835466,
          7.701652362642226,
          6.883462586413092,
          9.286653054825347,
          6.710523109452428,
          6.115892125483034,
          6.139884552226255,
          5.627621113690637,
          5.37989735354046,
          6.045005314036012,
          5.424950017481403,
          7.040536390215956,
          6.932447891572509,
          6.679599185844383,
          5.720311776607412,
          5.58724865840025,
          5.700443573390687,
          6.489204931325317,
          5.056245805348308,
          7.706162970199576,
          5.147494476813453,
          5.886104031450156,
          6.423246963533519,
          4.110873864173311,
          6.2324480165505225,
          5.501258210544727,
          6.472346294500901,
          6.2878585601617845,
          5.575949103146316,
          5.6240175061873385,
          5.820082930352362,
          5.942799375126701,
          7.424165281042028,
          5.262690188904886,
          5.568344503761097,
          6.274762021241939,
          6.516193076042964,
          6.115892125483034,
          4.48863636973214,
          6.09807428216624,
          5.683579767338681,
          5.631211781821365,
          5.375278407684165,
          5.8377304471659395,
          5.968707559985366,
          6.68586094706836,
          5.8888779583328805,
          8.027802848370312,
          6.066108090103747,
          6.251903883165888,
          6.318968113746434,
          6.3080984415095305,
          6.07073772800249,
          6.57507584059962,
          6.597145701886651,
          6.705639094860003,
          7.088408778675395,
          6.568077911411976,
          5.855071922202427,
          6.6039438246004725,
          6.687108607866515,
          6.7226297948554485,
          6.648984550024776,
          7.271008538280992,
          5.877735781779639,
          6.030685260261263,
          6.466144724237619,
          6.655440350367647,
          5.442417710521793,
          6.270988431858299,
          6.68586094706836,
          6.175867270105761,
          6.113682179832232,
          5.220355825078324,
          6.1092475827643655,
          5.10594547390058,
          5.8944028342648505,
          6.47543271670409,
          6.523562306149512,
          5.631211781821365,
          3.58351893845611,
          6.899723107284872,
          6.206575926724928,
          6.249975242259483,
          5.752572638825633,
          5.645446897643238,
          5.455321115357702,
          6.0063531596017325,
          6.9782137426306985,
          6.52649485957079,
          4.990432586778736,
          5.7899601708972535,
          6.236369590203704,
          8.799360083179907,
          5.863631175598097,
          5.780743515792329,
          5.365976015021851,
          6.214608098422191,
          5.872117789475416,
          6.206575926724928,
          5.517452896464707,
          5.902633333401366,
          4.919980925828125,
          5.918893854273146,
          6.202535517187923,
          5.564520407322694,
          5.768320995793772,
          4.9344739331306915,
          7.321188556739478,
          7.027314514039777,
          5.521460917862246,
          6.7912214627261855,
          6.561030665896573,
          6.982862751468942,
          6.80903930604298,
          7.247792581767846,
          7.173958319756794,
          6.507277712385012,
          6.0844994130751715,
          7.338888133838879,
          6.97914527506881,
          5.991464547107982,
          2.4849066497880004,
          1.3862943611198906,
          5.697093486505405,
          5.916202062607435,
          5.560681631015528,
          6.8658910748834385,
          6.148468295917647,
          5.662960480135946,
          5.780743515792329,
          5.733341276897746,
          5.313205979041787,
          5.713732805509369,
          5.58724865840025,
          5.733341276897746,
          6.016157159698354,
          5.726847747587197,
          6.311734809152915,
          5.998936561946683,
          10.65913993844747,
          6.282266746896006,
          5.916202062607435,
          6.013715156042802,
          6.171700597410915,
          5.493061443340548,
          5.823045895483019,
          6.670766320845874,
          6.082218910376446,
          5.236441962829949,
          5.877735781779639,
          5.720311776607412,
          5.075173815233827,
          5.777652323222656,
          8.19118600464279,
          5.602118820879701,
          5.43372200355424,
          5.924255797414532,
          5.605802066295998,
          5.407171771460119,
          5.3981627015177525,
          5.786897381366708,
          5.170483995038151,
          7.00397413672268,
          5.572154032177765,
          5.293304824724492,
          5.579729825986222,
          5.817111159963204,
          5.3706380281276624,
          6.135564891081739,
          5.3230099791384085,
          5.351858133476067,
          7.023758954738443,
          6.2878585601617845,
          5.375278407684165,
          5.655991810819852,
          5.60947179518496,
          6.184148890937483,
          5.123963979403259,
          5.220355825078324,
          5.877735781779639,
          6.102558594613569,
          5.602118820879701,
          5.863631175598097,
          5.298317366548036,
          5.652489180268651,
          4.852030263919617,
          5.3230099791384085,
          5.834810737062605,
          5.932245187448011,
          5.4680601411351315,
          4.9344739331306915,
          5.736572297479192,
          6.569481420414296,
          6.51471269087253,
          6.61338421837956,
          4.844187086458591,
          5.662960480135946,
          6.186208623900494,
          6.56244409369372,
          5.6937321388027,
          5.41610040220442,
          6.432940092739179,
          5.5134287461649825,
          6.834108738813838,
          5.231108616854587,
          6.437751649736401,
          5.472270673671475,
          6.975413927455952,
          6.154858094016418,
          6.180016653652572,
          6.148468295917647,
          6.333279628139691,
          6.0844994130751715,
          6.558197802812269,
          6.208590026096629,
          6.827629234502852,
          6.280395838960195,
          6.974478911025045,
          5.973809611869261,
          6.19644412779452,
          6.98933526597456,
          6.269096283706261,
          6.721425700790643,
          6.2166061010848646,
          6.208590026096629,
          5.8522024797744745,
          6.311734809152915,
          8.56483984488359,
          7.843848638152472,
          5.883322388488279,
          6.285998094508865,
          6.113682179832232,
          5.3471075307174685,
          4.836281906951478,
          6.410174881966167,
          5.616771097666572,
          4.8283137373023015,
          5.099866427824199,
          4.852030263919617,
          6.3835066348840055,
          6.171700597410915,
          6.133398042996649,
          5.365976015021851,
          6.625392368007956,
          3.1354942159291497,
          5.598421958998375,
          5.993961427306569,
          5.327876168789581,
          5.75890177387728,
          6.09807428216624,
          5.402677381872279,
          5.209486152841421,
          5.556828061699537,
          6.905753276311464,
          5.857933154483459,
          5.869296913133774,
          5.998936561946683,
          5.442417710521793,
          5.641907070938114,
          5.53338948872752,
          9.783746350923579,
          6.3080984415095305,
          6.602587892189336,
          5.950642552587727,
          5.986452005284438,
          6.0844994130751715,
          6.900730664045173,
          7.112327444710911,
          6.040254711277414,
          6.095824562432225,
          7.149131598557407,
          6.464588303689961,
          6.3578422665081,
          5.631211781821365,
          5.905361848054571,
          6.12029741895095,
          5.908082938168931,
          6.635946555686647,
          5.934894195619588,
          6.638567789166521,
          6.129050210060545,
          7.304515946460155,
          6.352629396319567,
          6.037870919922137,
          6.535241271013659,
          6.18826412308259,
          6.440946540632921,
          6.102558594613569,
          6.771935555839602,
          6.481577129276431,
          6.432940092739179,
          5.262690188904886,
          5.814130531825066,
          7.188412736496954,
          7.0909098220799835,
          6.656726524178391,
          7.190676034332207,
          6.981934677156389,
          6.591673732008658,
          6.710523109452428,
          6.163314804034641,
          6.943122422819428,
          7.192182058713246,
          6.981934677156389,
          6.851184927493743,
          6.754604099487962,
          7.025538314638521,
          7.236339342754344,
          6.697034247666484,
          6.699500340161678,
          7.1569563646156364,
          7.513163545234075,
          8.65834547117212,
          7.149131598557407,
          6.8679744089702925,
          7.355001921105257,
          6.09807428216624,
          6.709304340258298,
          6.0473721790462776,
          7.143617602704121,
          6.115892125483034,
          6.895682697747868,
          6.386879319362645,
          7.367708572374371,
          6.9782137426306985,
          7.316548177182976,
          6.484635235635252,
          7.733245646529795,
          7.013915474810528,
          5.940171252720432,
          6.658011045870748,
          6.805722553416985,
          7.293017679772782,
          7.353081920515432,
          6.473890696352274,
          7.381501894506707,
          7.0909098220799835,
          6.57507584059962,
          5.556828061699537,
          6.905753276311464,
          6.769641976852503,
          7.085064293952548,
          7.020190708311925,
          7.265429723253953,
          6.647688373563329,
          6.304448802421981,
          7.059617628291383,
          6.870053411798126,
          6.911747300251674,
          6.660575149839686,
          7.935945103353701,
          5.293304824724492,
          6.595780513961311,
          6.976348070447749,
          5.736572297479192,
          4.8283137373023015,
          6.634633357861686,
          6.7912214627261855,
          6.502790045915623,
          7.553810852008231,
          8.222553638396958,
          6.555356891810665,
          10.081215240319855,
          7.165493475060845,
          7.383989457978509,
          7.291656209174461,
          7.916807490937603,
          6.962243464266207,
          6.975413927455952,
          6.870053411798126
         ],
         "yaxis": "y"
        },
        {
         "hovertemplate": "<b>OLS trendline</b><br>y = 0.278937 * x + 3.88615<br>R<sup>2</sup>=0.135296<br><br>x=%{x}<br>y=%{y} <b>(trend)</b><extra></extra>",
         "legendgroup": "",
         "line": {
          "color": "darkred"
         },
         "marker": {
          "color": "#636efa",
          "symbol": "circle"
         },
         "mode": "lines",
         "name": "",
         "showlegend": false,
         "type": "scatter",
         "x": [
          4.6913478822291435,
          5.814130531825066,
          6.226536669287466,
          6.255750041753367,
          6.302618975744905,
          6.324358962381311,
          6.561030665896573,
          6.606650186198215,
          6.621405651764134,
          6.677083461247136,
          6.742880635791903,
          6.742880635791903,
          6.773080375655535,
          6.778784897685177,
          6.826545223556594,
          6.826545223556594,
          6.85751406254539,
          6.880384082186005,
          6.88653164253051,
          6.891625897052253,
          6.903747257584598,
          6.912742820493176,
          6.915723448631314,
          6.926577033222725,
          6.940222469119639,
          6.948897222313312,
          6.983789965258135,
          7.016609683894219,
          7.034387929915503,
          7.037905963447182,
          7.038783541388542,
          7.040536390215956,
          7.075808863978387,
          7.085064293952548,
          7.093404625868766,
          7.1204443723924875,
          7.1308988302963465,
          7.135687347028144,
          7.193685818395112,
          7.195937226475569,
          7.21890970761906,
          7.223295679562314,
          7.226209010100671,
          7.242797922793756,
          7.243512974665482,
          7.271008538280992,
          7.27931883541462,
          7.299797366758161,
          7.303843225277705,
          7.333023014386481,
          7.352441100243583,
          7.392031567514591,
          7.395721608602045,
          7.3987862754199485,
          7.401231264413015,
          7.419380582918692,
          7.423568444259167,
          7.44600149832412,
          7.451241684987676,
          7.45182223652793,
          7.454719949364001,
          7.462789157412448,
          7.469654172932128,
          7.4770384723196965,
          7.477604243197589,
          7.478734825567875,
          7.507141079727608,
          7.516977224604321,
          7.532623618788788,
          7.555381944240273,
          7.562681246721884,
          7.565793282428515,
          7.5688956634069955,
          7.57095858316901,
          7.5766097669730375,
          7.579678823090456,
          7.581209826196346,
          7.581719640125308,
          7.606387389772652,
          7.6128310304073565,
          7.614805364711073,
          7.629975707027789,
          7.632885505395133,
          7.642524134232902,
          7.643482907077201,
          7.644440761556566,
          7.647308832356238,
          7.6676260915849905,
          7.671826797878781,
          7.681560362559537,
          7.710653323501202,
          7.7142311448490855,
          7.72356247227797,
          7.731930721948486,
          7.744569809354496,
          7.748028524432376,
          7.751045117971802,
          7.760893195851024,
          7.761319180947987,
          7.773594467360194,
          7.784057002639929,
          7.785305182539862,
          7.798523053625206,
          7.808729306744399,
          7.808729306744399,
          7.81156848934518,
          7.8119734296220225,
          7.823245690685523,
          7.826044013518965,
          7.829232537543592,
          7.835579246669965,
          7.836369760545124,
          7.842671474979457,
          7.848933726364071,
          7.855544677915663,
          7.868636894184167,
          7.870547844507712,
          7.888709524182015,
          7.892452043520352,
          7.899153483343097,
          7.918992488165245,
          7.923710333969238,
          7.9269635448629785,
          7.928045600874777,
          7.934871565945177,
          7.956827122090111,
          7.95892649305011,
          7.968665700466235,
          7.982757702011113,
          7.987184748233473,
          7.987864096085687,
          7.990238185720363,
          7.9919305198524775,
          8.00603417874901,
          8.027476530860483,
          8.038189179973203,
          8.043342170441608,
          8.045267716607803,
          8.050065422915965,
          8.051659556841953,
          8.065579427282092,
          8.06777619577889,
          8.068716192714781,
          8.073091199693154,
          8.07961802938984,
          8.081165777725433,
          8.094683648698815,
          8.097730573664219,
          8.098642843759418,
          8.109525659752872,
          8.118802996980035,
          8.124446855715847,
          8.150756470275551,
          8.151044945685024,
          8.166216268592143,
          8.17526610411206,
          8.175829008714597,
          8.17948018535889,
          8.206037762778815,
          8.210124405164267,
          8.211482916445066,
          8.21878715560148,
          8.222285073872717,
          8.225235324101668,
          8.231109840328154,
          8.241703159729818,
          8.253488028345904,
          8.261268150577648,
          8.264620829411216,
          8.26796230533871,
          8.26796230533871,
          8.271292652979412,
          8.271292652979412,
          8.280964400553373,
          8.284504227258497,
          8.28828304520769,
          8.29254851397576,
          8.303752415563412,
          8.304494897963567,
          8.304494897963567,
          8.308938252595778,
          8.340933226000878,
          8.351374706721296,
          8.360539381370861,
          8.365672383774996,
          8.36985260351753,
          8.3774712482411,
          8.379997952238393,
          8.387312270561717,
          8.39660622842712,
          8.39931015075952,
          8.400434630806041,
          8.402455513945814,
          8.412054873292933,
          8.420902531097951,
          8.427049641563272,
          8.43511508038063,
          8.436416881388949,
          8.443761913330354,
          8.447199819595703,
          8.472405008626103,
          8.478660241699453,
          8.482394685873542,
          8.488587934405903,
          8.48920515487607,
          8.49596955496461,
          8.503297086224126,
          8.509161019718974,
          8.517593111437565,
          8.519789817263504,
          8.528528701079983,
          8.540323608805092,
          8.542860938164814,
          8.545002892055505,
          8.556798446008598,
          8.562740006372207,
          8.567125560164447,
          8.575462099540212,
          8.576216531865699,
          8.577347114235984,
          8.600430789986293,
          8.602636673233706,
          8.61286694148452,
          8.635864721133736,
          8.648221453822641,
          8.651024539049757,
          8.65486599654131,
          8.6628507638386,
          8.670943791222156,
          8.676757761087575,
          8.677609912822142,
          8.686935966003333,
          8.688285266258644,
          8.697345730925353,
          8.698013622083925,
          8.702177865629675,
          8.707317560273212,
          8.710949125835855,
          8.740816627567298,
          8.744488113852924,
          8.746716349694486,
          8.759197750371365,
          8.759511722116487,
          8.759668671029939,
          8.776630098427717,
          8.778325928634482,
          8.781248333236862,
          8.785998208098329,
          8.788440957404594,
          8.790725628263576,
          8.802672840312818,
          8.811652248147043,
          8.821879862683842,
          8.827321452697849,
          8.84043543926657,
          8.840724916761715,
          8.858510813033927,
          8.85893722196655,
          8.880029117468442,
          8.90354343566472,
          8.933927891782632,
          8.939449862164238,
          8.949365142352965,
          8.954286157204713,
          8.960339366492091,
          8.963032193662675,
          8.967759126769497,
          8.974997713204976,
          8.984192311641674,
          9.01322999770879,
          9.018089684104343,
          9.032767522204432,
          9.03788993497749,
          9.043695294567236,
          9.04499391938819,
          9.053803514155955,
          9.058237593766226,
          9.076466063419854,
          9.078179468373843,
          9.079320109537779,
          9.082620630373812,
          9.089302043599126,
          9.09133158539398,
          9.117896081584902,
          9.120306249272202,
          9.124564594954778,
          9.13075589263334,
          9.133459327640225,
          9.14120463314132,
          9.142489705068009,
          9.163667963777751,
          9.169414205363537,
          9.175645402179295,
          9.188197007290492,
          9.191157552559408,
          9.227197489042606,
          9.235130540783402,
          9.263407092912875,
          9.286560397887591,
          9.297618380083243,
          9.307557822691543,
          9.309370895439137,
          9.315510869581722,
          9.3171298661577,
          9.320807825002154,
          9.322865162818028,
          9.323222529032856,
          9.325898712610455,
          9.338205742974079,
          9.368113055848724,
          9.372714290960442,
          9.390492911485298,
          9.398644000447685,
          9.403849118160702,
          9.408453253565146,
          9.423110302862831,
          9.471550124096849,
          9.479909389001037,
          9.48417703760591,
          9.49016666846238,
          9.497247143960212,
          9.499121839871265,
          9.500918247539989,
          9.517825071724143,
          9.535318229171661,
          9.54050705603412,
          9.541441064795485,
          9.546383945305841,
          9.566825297862628,
          9.570040734716603,
          9.596214830319344,
          9.59709825261865,
          9.602990383037504,
          9.619199713152362,
          9.62648162008158,
          9.639652206558628,
          9.647949933410914,
          9.676837861892631,
          9.677652883410428,
          9.680906343078094,
          9.69818391935025,
          9.700820421076743,
          9.704426671737876,
          9.70558524377515,
          9.732402627668161,
          9.759039648170255,
          9.765029759388561,
          9.79740455372797,
          9.827847638327382,
          9.851509813443416,
          9.85314117809939,
          9.854297308345357,
          9.865370230423,
          9.867963996467081,
          9.869827351043494,
          9.898424758193666,
          9.909618718466369,
          9.918129829272997,
          9.930616219924381,
          9.96114306502429,
          9.972500423823082,
          9.997660722553377,
          10.030384485724479,
          10.033023473885162,
          10.053888353203654,
          10.05539285624928,
          10.142228824473392,
          10.150191368259351,
          10.163849814332947,
          10.170915895960642,
          10.183087048794553,
          10.239531125865787,
          10.247041795304542,
          10.323381397296414,
          10.34238743673053,
          10.351373376528244,
          10.362998829061379,
          10.445462945294334,
          10.500454174622105,
          10.515343329459467,
          10.557659989689753,
          10.557659989689753,
          10.55999668199817,
          10.578878011506815,
          10.622740980180552,
          10.629174524663854,
          10.639334962628102,
          10.654219444947001,
          10.663405136729926,
          10.667791927412402,
          10.726939049306129,
          10.759964583708427,
          10.79562902417728,
          10.832793221487778,
          10.859710283001629,
          10.88721260865988,
          10.914815699745034,
          10.934320518782949,
          10.95201634103625,
          10.964934347972234,
          10.965297534680133,
          10.984292222554274,
          11.006838595551411,
          11.04934913630475,
          11.140454997418148,
          11.20355659128086,
          11.342824926393229,
          11.358654777942395,
          11.558242939660687,
          12.097506998923398,
          12.21394160390887,
          12.324180073010284,
          12.514920386503473,
          12.651866826692766
         ],
         "xaxis": "x",
         "y": [
          5.194744379588937,
          5.50793015339349,
          5.622965539208716,
          5.631114233583773,
          5.644187719680852,
          5.650251809235205,
          5.716268335790674,
          5.7289933140145575,
          5.733109161282746,
          5.748639769858637,
          5.766993045117541,
          5.766993045117541,
          5.775416873987084,
          5.777008077009932,
          5.790330205402797,
          5.790330205402797,
          5.798968564577678,
          5.8053478622989685,
          5.807062645159388,
          5.8084836219129246,
          5.81186471947375,
          5.814373916005549,
          5.815205323874386,
          5.818232791648347,
          5.822039010422579,
          5.8244587212121095,
          5.834191602908554,
          5.8433462411466754,
          5.848305254130237,
          5.8492865643190655,
          5.849531353394438,
          5.850020288021788,
          5.859859090743993,
          5.862440773850153,
          5.864767202127173,
          5.87230959151265,
          5.875225728032489,
          5.876561423163299,
          5.892739350512891,
          5.893367351829157,
          5.899775229868353,
          5.900998640309748,
          5.901811276379011,
          5.906438540133246,
          5.906637994652638,
          5.914307528351093,
          5.916625578811953,
          5.922337801642895,
          5.92346634182082,
          5.9316056685505085,
          5.937022093757246,
          5.948065345211138,
          5.949094634694513,
          5.949949484071785,
          5.950631482292912,
          5.955694001171585,
          5.956862151209328,
          5.963119563005511,
          5.964581245652369,
          5.964743183034846,
          5.965551462747001,
          5.967802264509526,
          5.969717172259914,
          5.971776927563874,
          5.971934742070762,
          5.9722501034762985,
          5.98017366258465,
          5.982917328641099,
          5.987281688984286,
          5.993629831048633,
          5.99566587755929,
          5.996533939878599,
          5.997399309135714,
          5.997974734060739,
          5.9995510590718295,
          6.000407132787726,
          6.000834186405439,
          6.000976392441394,
          6.0078571438175405,
          6.00965451446539,
          6.010205229616609,
          6.014436801416414,
          6.015248452232019,
          6.017937023730749,
          6.0182044610796,
          6.018471642262369,
          6.019271653709861,
          6.024938891759393,
          6.026110624731594,
          6.0288256773622315,
          6.036940784491879,
          6.037938771722778,
          6.040541625447397,
          6.0428758410227745,
          6.046401351833669,
          6.047366115903033,
          6.048207555857808,
          6.050954550471772,
          6.051073373533626,
          6.054497406738149,
          6.057415796338061,
          6.05776396006142,
          6.0614509151327365,
          6.064297818121423,
          6.064297818121423,
          6.065089771577523,
          6.065202724457578,
          6.068346976646522,
          6.069127532796246,
          6.070016930547723,
          6.071787263398494,
          6.07200776707281,
          6.073765549233162,
          6.0755123236835455,
          6.077356363558954,
          6.08100826883585,
          6.081541303841331,
          6.086607270708948,
          6.087651198325194,
          6.08952047873957,
          6.095054313875847,
          6.096370296260636,
          6.0972777375819565,
          6.097579563184158,
          6.099483578314161,
          6.10560779820929,
          6.106193390726992,
          6.108910017326059,
          6.112840799842047,
          6.114075667425117,
          6.114265162767652,
          6.114927384524984,
          6.115399439356695,
          6.119333473540938,
          6.12531454177408,
          6.128302697409609,
          6.12974005779974,
          6.13027716412773,
          6.131615422572629,
          6.132060085720335,
          6.135942854479385,
          6.136555614786811,
          6.136817814837594,
          6.138038166743115,
          6.1398587419094515,
          6.140290466393537,
          6.1440611025736676,
          6.14491100308946,
          6.145165469094779,
          6.1482010905922335,
          6.150788884444749,
          6.152363166222308,
          6.159701894690677,
          6.159782361194476,
          6.164014206517358,
          6.16653854169579,
          6.166695556692048,
          6.167714005439052,
          6.175121899956862,
          6.176261816269436,
          6.17664075551191,
          6.178678179044486,
          6.179653878340228,
          6.180476812682153,
          6.1821154333989785,
          6.185070303546966,
          6.18835754101723,
          6.1905277060107124,
          6.191462892634043,
          6.192394954350865,
          6.192394954350865,
          6.19332391197527,
          6.19332391197527,
          6.196021721519338,
          6.197009110633497,
          6.198063163280205,
          6.199252960911339,
          6.202378145104042,
          6.202585251016405,
          6.202585251016405,
          6.2038246676205695,
          6.212749253788104,
          6.215661770489593,
          6.218218138565661,
          6.21964992354244,
          6.220815942054759,
          6.2229410649749894,
          6.223645856545158,
          6.22568609153166,
          6.228278521497362,
          6.229032745841927,
          6.229346405082764,
          6.22991010443288,
          6.232587722212454,
          6.235055662518638,
          6.236770319891049,
          6.239020070275059,
          6.239383190916686,
          6.2414319930717745,
          6.24239095279062,
          6.249421615967697,
          6.2511664327504555,
          6.2522081079035345,
          6.253935634896109,
          6.254107800604785,
          6.255994642975226,
          6.258038563540275,
          6.259674232340272,
          6.2620262558335344,
          6.262638998659732,
          6.265076597861356,
          6.268366635611913,
          6.26907439099022,
          6.269671861468545,
          6.272962079476084,
          6.274619401292336,
          6.275842695095886,
          6.278168065492543,
          6.278378504682822,
          6.278693866088358,
          6.285132760432438,
          6.285748063182273,
          6.288601664882933,
          6.295016599614796,
          6.298463351210275,
          6.29924523576844,
          6.300316760909537,
          6.302544009010985,
          6.304801454870566,
          6.306423186958993,
          6.306660883721126,
          6.309262266262213,
          6.309638636207639,
          6.31216593624981,
          6.312352235895062,
          6.3135137980528455,
          6.3149474497437,
          6.315960428231804,
          6.324291583549121,
          6.325315697409261,
          6.325937235127634,
          6.329418761254315,
          6.3295063396328946,
          6.329550118512917,
          6.33428129045106,
          6.3347543204678125,
          6.335569487630482,
          6.336894404108751,
          6.337575777598062,
          6.338213057138422,
          6.34154557822057,
          6.344050268502238,
          6.346903129983518,
          6.348420991503625,
          6.3520789693256585,
          6.352159715348364,
          6.357120862270989,
          6.357239803556347,
          6.363123116427403,
          6.369682132940917,
          6.378157486032936,
          6.3796977686223695,
          6.38246350845591,
          6.383836162232491,
          6.385524627079494,
          6.386275756571427,
          6.387594273742417,
          6.38961338429321,
          6.392178099224685,
          6.400277788139272,
          6.401633335132082,
          6.405727529217472,
          6.407156360352914,
          6.408775690715726,
          6.4091379254007546,
          6.411595248512436,
          6.4128320779685675,
          6.417916675041562,
          6.418394607307926,
          6.418712774484529,
          6.419633412305538,
          6.421497106558233,
          6.422063221128777,
          6.429473045548736,
          6.430145330814649,
          6.4313331415527335,
          6.433060124379741,
          6.433814212791123,
          6.435974666105562,
          6.436333120385115,
          6.442240523161805,
          6.443843363318054,
          6.44558147549602,
          6.449082584246369,
          6.449908390257232,
          6.459961266830822,
          6.462174089543185,
          6.470061469939009,
          6.476519786459352,
          6.47960426831513,
          6.482376747944725,
          6.482882481259738,
          6.48459514804674,
          6.485046746310765,
          6.486072665607911,
          6.48664653352088,
          6.486746216228449,
          6.487492703204262,
          6.4909255909756,
          6.499267851099082,
          6.500551306431633,
          6.505510423878147,
          6.507784065268094,
          6.509235965882413,
          6.510520230214302,
          6.514608625530743,
          6.528120290412266,
          6.530451999802679,
          6.531642405471242,
          6.533313135932977,
          6.53528814347205,
          6.5358110657756345,
          6.536312150581319,
          6.5410280916555745,
          6.545907582849581,
          6.547354939340742,
          6.547615469067288,
          6.5489942219880035,
          6.554696074274742,
          6.55559297901369,
          6.562893906212672,
          6.563140325496496,
          6.564783859465649,
          6.569305243543593,
          6.571336437788732,
          6.575010203426951,
          6.577324747569564,
          6.585382663532564,
          6.585610003298466,
          6.586517514012073,
          6.59133687161099,
          6.592072289845006,
          6.593078207067049,
          6.593401375830062,
          6.600881740020735,
          6.60831179416416,
          6.609982658616648,
          6.619013190946838,
          6.627504897699427,
          6.634105156998304,
          6.63456020517911,
          6.634882692835855,
          6.637971341979491,
          6.6386948396447565,
          6.639214598428967,
          6.647191477204529,
          6.6503138883953365,
          6.652687953246508,
          6.656170871262374,
          6.664685941928871,
          6.667853931036163,
          6.674872072641608,
          6.683999945337385,
          6.684736057130225,
          6.690556046757829,
          6.690975708524695,
          6.71519748458449,
          6.717418533723391,
          6.721228381519014,
          6.723199374073211,
          6.7265943605559055,
          6.742338709616341,
          6.744433714220137,
          6.765727663971107,
          6.771029154129755,
          6.773535666418594,
          6.7767784368236486,
          6.799780741021012,
          6.815119836896495,
          6.819272975066838,
          6.8310766629701165,
          6.8310766629701165,
          6.8317284532244615,
          6.836995157153982,
          6.849230167901959,
          6.851024722358278,
          6.853858845798973,
          6.858010680630409,
          6.860572911165412,
          6.861796549983579,
          6.87829487861848,
          6.887506926516455,
          6.89745506330817,
          6.9078215379742165,
          6.915329705954719,
          6.923001125837993,
          6.930700652940601,
          6.936141271252172,
          6.9410772931861615,
          6.94468060501122,
          6.94478191127044,
          6.950080235057488,
          6.956369255711785,
          6.9682270240924025,
          6.993639831835022,
          7.011241209545397,
          7.050088319726816,
          7.054503853141428,
          7.110176402848593,
          7.260597173730614,
          7.293075108683675,
          7.323824711254556,
          7.377029267540304,
          7.415228715007628
         ],
         "yaxis": "y"
        }
       ],
       "layout": {
        "legend": {
         "tracegroupgap": 0
        },
        "margin": {
         "t": 60
        },
        "template": {
         "data": {
          "bar": [
           {
            "error_x": {
             "color": "#2a3f5f"
            },
            "error_y": {
             "color": "#2a3f5f"
            },
            "marker": {
             "line": {
              "color": "#E5ECF6",
              "width": 0.5
             }
            },
            "type": "bar"
           }
          ],
          "barpolar": [
           {
            "marker": {
             "line": {
              "color": "#E5ECF6",
              "width": 0.5
             }
            },
            "type": "barpolar"
           }
          ],
          "carpet": [
           {
            "aaxis": {
             "endlinecolor": "#2a3f5f",
             "gridcolor": "white",
             "linecolor": "white",
             "minorgridcolor": "white",
             "startlinecolor": "#2a3f5f"
            },
            "baxis": {
             "endlinecolor": "#2a3f5f",
             "gridcolor": "white",
             "linecolor": "white",
             "minorgridcolor": "white",
             "startlinecolor": "#2a3f5f"
            },
            "type": "carpet"
           }
          ],
          "choropleth": [
           {
            "colorbar": {
             "outlinewidth": 0,
             "ticks": ""
            },
            "type": "choropleth"
           }
          ],
          "contour": [
           {
            "colorbar": {
             "outlinewidth": 0,
             "ticks": ""
            },
            "colorscale": [
             [
              0,
              "#0d0887"
             ],
             [
              0.1111111111111111,
              "#46039f"
             ],
             [
              0.2222222222222222,
              "#7201a8"
             ],
             [
              0.3333333333333333,
              "#9c179e"
             ],
             [
              0.4444444444444444,
              "#bd3786"
             ],
             [
              0.5555555555555556,
              "#d8576b"
             ],
             [
              0.6666666666666666,
              "#ed7953"
             ],
             [
              0.7777777777777778,
              "#fb9f3a"
             ],
             [
              0.8888888888888888,
              "#fdca26"
             ],
             [
              1,
              "#f0f921"
             ]
            ],
            "type": "contour"
           }
          ],
          "contourcarpet": [
           {
            "colorbar": {
             "outlinewidth": 0,
             "ticks": ""
            },
            "type": "contourcarpet"
           }
          ],
          "heatmap": [
           {
            "colorbar": {
             "outlinewidth": 0,
             "ticks": ""
            },
            "colorscale": [
             [
              0,
              "#0d0887"
             ],
             [
              0.1111111111111111,
              "#46039f"
             ],
             [
              0.2222222222222222,
              "#7201a8"
             ],
             [
              0.3333333333333333,
              "#9c179e"
             ],
             [
              0.4444444444444444,
              "#bd3786"
             ],
             [
              0.5555555555555556,
              "#d8576b"
             ],
             [
              0.6666666666666666,
              "#ed7953"
             ],
             [
              0.7777777777777778,
              "#fb9f3a"
             ],
             [
              0.8888888888888888,
              "#fdca26"
             ],
             [
              1,
              "#f0f921"
             ]
            ],
            "type": "heatmap"
           }
          ],
          "heatmapgl": [
           {
            "colorbar": {
             "outlinewidth": 0,
             "ticks": ""
            },
            "colorscale": [
             [
              0,
              "#0d0887"
             ],
             [
              0.1111111111111111,
              "#46039f"
             ],
             [
              0.2222222222222222,
              "#7201a8"
             ],
             [
              0.3333333333333333,
              "#9c179e"
             ],
             [
              0.4444444444444444,
              "#bd3786"
             ],
             [
              0.5555555555555556,
              "#d8576b"
             ],
             [
              0.6666666666666666,
              "#ed7953"
             ],
             [
              0.7777777777777778,
              "#fb9f3a"
             ],
             [
              0.8888888888888888,
              "#fdca26"
             ],
             [
              1,
              "#f0f921"
             ]
            ],
            "type": "heatmapgl"
           }
          ],
          "histogram": [
           {
            "marker": {
             "colorbar": {
              "outlinewidth": 0,
              "ticks": ""
             }
            },
            "type": "histogram"
           }
          ],
          "histogram2d": [
           {
            "colorbar": {
             "outlinewidth": 0,
             "ticks": ""
            },
            "colorscale": [
             [
              0,
              "#0d0887"
             ],
             [
              0.1111111111111111,
              "#46039f"
             ],
             [
              0.2222222222222222,
              "#7201a8"
             ],
             [
              0.3333333333333333,
              "#9c179e"
             ],
             [
              0.4444444444444444,
              "#bd3786"
             ],
             [
              0.5555555555555556,
              "#d8576b"
             ],
             [
              0.6666666666666666,
              "#ed7953"
             ],
             [
              0.7777777777777778,
              "#fb9f3a"
             ],
             [
              0.8888888888888888,
              "#fdca26"
             ],
             [
              1,
              "#f0f921"
             ]
            ],
            "type": "histogram2d"
           }
          ],
          "histogram2dcontour": [
           {
            "colorbar": {
             "outlinewidth": 0,
             "ticks": ""
            },
            "colorscale": [
             [
              0,
              "#0d0887"
             ],
             [
              0.1111111111111111,
              "#46039f"
             ],
             [
              0.2222222222222222,
              "#7201a8"
             ],
             [
              0.3333333333333333,
              "#9c179e"
             ],
             [
              0.4444444444444444,
              "#bd3786"
             ],
             [
              0.5555555555555556,
              "#d8576b"
             ],
             [
              0.6666666666666666,
              "#ed7953"
             ],
             [
              0.7777777777777778,
              "#fb9f3a"
             ],
             [
              0.8888888888888888,
              "#fdca26"
             ],
             [
              1,
              "#f0f921"
             ]
            ],
            "type": "histogram2dcontour"
           }
          ],
          "mesh3d": [
           {
            "colorbar": {
             "outlinewidth": 0,
             "ticks": ""
            },
            "type": "mesh3d"
           }
          ],
          "parcoords": [
           {
            "line": {
             "colorbar": {
              "outlinewidth": 0,
              "ticks": ""
             }
            },
            "type": "parcoords"
           }
          ],
          "pie": [
           {
            "automargin": true,
            "type": "pie"
           }
          ],
          "scatter": [
           {
            "marker": {
             "colorbar": {
              "outlinewidth": 0,
              "ticks": ""
             }
            },
            "type": "scatter"
           }
          ],
          "scatter3d": [
           {
            "line": {
             "colorbar": {
              "outlinewidth": 0,
              "ticks": ""
             }
            },
            "marker": {
             "colorbar": {
              "outlinewidth": 0,
              "ticks": ""
             }
            },
            "type": "scatter3d"
           }
          ],
          "scattercarpet": [
           {
            "marker": {
             "colorbar": {
              "outlinewidth": 0,
              "ticks": ""
             }
            },
            "type": "scattercarpet"
           }
          ],
          "scattergeo": [
           {
            "marker": {
             "colorbar": {
              "outlinewidth": 0,
              "ticks": ""
             }
            },
            "type": "scattergeo"
           }
          ],
          "scattergl": [
           {
            "marker": {
             "colorbar": {
              "outlinewidth": 0,
              "ticks": ""
             }
            },
            "type": "scattergl"
           }
          ],
          "scattermapbox": [
           {
            "marker": {
             "colorbar": {
              "outlinewidth": 0,
              "ticks": ""
             }
            },
            "type": "scattermapbox"
           }
          ],
          "scatterpolar": [
           {
            "marker": {
             "colorbar": {
              "outlinewidth": 0,
              "ticks": ""
             }
            },
            "type": "scatterpolar"
           }
          ],
          "scatterpolargl": [
           {
            "marker": {
             "colorbar": {
              "outlinewidth": 0,
              "ticks": ""
             }
            },
            "type": "scatterpolargl"
           }
          ],
          "scatterternary": [
           {
            "marker": {
             "colorbar": {
              "outlinewidth": 0,
              "ticks": ""
             }
            },
            "type": "scatterternary"
           }
          ],
          "surface": [
           {
            "colorbar": {
             "outlinewidth": 0,
             "ticks": ""
            },
            "colorscale": [
             [
              0,
              "#0d0887"
             ],
             [
              0.1111111111111111,
              "#46039f"
             ],
             [
              0.2222222222222222,
              "#7201a8"
             ],
             [
              0.3333333333333333,
              "#9c179e"
             ],
             [
              0.4444444444444444,
              "#bd3786"
             ],
             [
              0.5555555555555556,
              "#d8576b"
             ],
             [
              0.6666666666666666,
              "#ed7953"
             ],
             [
              0.7777777777777778,
              "#fb9f3a"
             ],
             [
              0.8888888888888888,
              "#fdca26"
             ],
             [
              1,
              "#f0f921"
             ]
            ],
            "type": "surface"
           }
          ],
          "table": [
           {
            "cells": {
             "fill": {
              "color": "#EBF0F8"
             },
             "line": {
              "color": "white"
             }
            },
            "header": {
             "fill": {
              "color": "#C8D4E3"
             },
             "line": {
              "color": "white"
             }
            },
            "type": "table"
           }
          ]
         },
         "layout": {
          "annotationdefaults": {
           "arrowcolor": "#2a3f5f",
           "arrowhead": 0,
           "arrowwidth": 1
          },
          "coloraxis": {
           "colorbar": {
            "outlinewidth": 0,
            "ticks": ""
           }
          },
          "colorscale": {
           "diverging": [
            [
             0,
             "#8e0152"
            ],
            [
             0.1,
             "#c51b7d"
            ],
            [
             0.2,
             "#de77ae"
            ],
            [
             0.3,
             "#f1b6da"
            ],
            [
             0.4,
             "#fde0ef"
            ],
            [
             0.5,
             "#f7f7f7"
            ],
            [
             0.6,
             "#e6f5d0"
            ],
            [
             0.7,
             "#b8e186"
            ],
            [
             0.8,
             "#7fbc41"
            ],
            [
             0.9,
             "#4d9221"
            ],
            [
             1,
             "#276419"
            ]
           ],
           "sequential": [
            [
             0,
             "#0d0887"
            ],
            [
             0.1111111111111111,
             "#46039f"
            ],
            [
             0.2222222222222222,
             "#7201a8"
            ],
            [
             0.3333333333333333,
             "#9c179e"
            ],
            [
             0.4444444444444444,
             "#bd3786"
            ],
            [
             0.5555555555555556,
             "#d8576b"
            ],
            [
             0.6666666666666666,
             "#ed7953"
            ],
            [
             0.7777777777777778,
             "#fb9f3a"
            ],
            [
             0.8888888888888888,
             "#fdca26"
            ],
            [
             1,
             "#f0f921"
            ]
           ],
           "sequentialminus": [
            [
             0,
             "#0d0887"
            ],
            [
             0.1111111111111111,
             "#46039f"
            ],
            [
             0.2222222222222222,
             "#7201a8"
            ],
            [
             0.3333333333333333,
             "#9c179e"
            ],
            [
             0.4444444444444444,
             "#bd3786"
            ],
            [
             0.5555555555555556,
             "#d8576b"
            ],
            [
             0.6666666666666666,
             "#ed7953"
            ],
            [
             0.7777777777777778,
             "#fb9f3a"
            ],
            [
             0.8888888888888888,
             "#fdca26"
            ],
            [
             1,
             "#f0f921"
            ]
           ]
          },
          "colorway": [
           "#636efa",
           "#EF553B",
           "#00cc96",
           "#ab63fa",
           "#FFA15A",
           "#19d3f3",
           "#FF6692",
           "#B6E880",
           "#FF97FF",
           "#FECB52"
          ],
          "font": {
           "color": "#2a3f5f"
          },
          "geo": {
           "bgcolor": "white",
           "lakecolor": "white",
           "landcolor": "#E5ECF6",
           "showlakes": true,
           "showland": true,
           "subunitcolor": "white"
          },
          "hoverlabel": {
           "align": "left"
          },
          "hovermode": "closest",
          "mapbox": {
           "style": "light"
          },
          "paper_bgcolor": "white",
          "plot_bgcolor": "#E5ECF6",
          "polar": {
           "angularaxis": {
            "gridcolor": "white",
            "linecolor": "white",
            "ticks": ""
           },
           "bgcolor": "#E5ECF6",
           "radialaxis": {
            "gridcolor": "white",
            "linecolor": "white",
            "ticks": ""
           }
          },
          "scene": {
           "xaxis": {
            "backgroundcolor": "#E5ECF6",
            "gridcolor": "white",
            "gridwidth": 2,
            "linecolor": "white",
            "showbackground": true,
            "ticks": "",
            "zerolinecolor": "white"
           },
           "yaxis": {
            "backgroundcolor": "#E5ECF6",
            "gridcolor": "white",
            "gridwidth": 2,
            "linecolor": "white",
            "showbackground": true,
            "ticks": "",
            "zerolinecolor": "white"
           },
           "zaxis": {
            "backgroundcolor": "#E5ECF6",
            "gridcolor": "white",
            "gridwidth": 2,
            "linecolor": "white",
            "showbackground": true,
            "ticks": "",
            "zerolinecolor": "white"
           }
          },
          "shapedefaults": {
           "line": {
            "color": "#2a3f5f"
           }
          },
          "ternary": {
           "aaxis": {
            "gridcolor": "white",
            "linecolor": "white",
            "ticks": ""
           },
           "baxis": {
            "gridcolor": "white",
            "linecolor": "white",
            "ticks": ""
           },
           "bgcolor": "#E5ECF6",
           "caxis": {
            "gridcolor": "white",
            "linecolor": "white",
            "ticks": ""
           }
          },
          "title": {
           "x": 0.05
          },
          "xaxis": {
           "automargin": true,
           "gridcolor": "white",
           "linecolor": "white",
           "ticks": "",
           "title": {
            "standoff": 15
           },
           "zerolinecolor": "white",
           "zerolinewidth": 2
          },
          "yaxis": {
           "automargin": true,
           "gridcolor": "white",
           "linecolor": "white",
           "ticks": "",
           "title": {
            "standoff": 15
           },
           "zerolinecolor": "white",
           "zerolinewidth": 2
          }
         }
        },
        "xaxis": {
         "anchor": "y",
         "domain": [
          0,
          1
         ],
         "title": {
          "text": "x"
         }
        },
        "yaxis": {
         "anchor": "x",
         "domain": [
          0,
          1
         ],
         "title": {
          "text": "y"
         }
        }
       }
      },
      "text/html": [
       "<div>                            <div id=\"df749f5a-adc5-4e49-b1e1-93e507d24bba\" class=\"plotly-graph-div\" style=\"height:525px; width:100%;\"></div>            <script type=\"text/javascript\">                require([\"plotly\"], function(Plotly) {                    window.PLOTLYENV=window.PLOTLYENV || {};                                    if (document.getElementById(\"df749f5a-adc5-4e49-b1e1-93e507d24bba\")) {                    Plotly.newPlot(                        \"df749f5a-adc5-4e49-b1e1-93e507d24bba\",                        [{\"hovertemplate\": \"x=%{x}<br>y=%{y}<extra></extra>\", \"legendgroup\": \"\", \"marker\": {\"color\": \"#636efa\", \"opacity\": 0.65, \"symbol\": \"circle\"}, \"mode\": \"markers\", \"name\": \"\", \"orientation\": \"v\", \"showlegend\": false, \"type\": \"scatter\", \"x\": [11.006838595551411, 11.140454997418148, 11.558242939660687, 10.984292222554274, 10.34238743673053, 10.964934347972234, 10.88721260865988, 10.934320518782949, 10.629174524663854, 10.859710283001629, 11.20355659128086, 10.759964583708427, 5.814130531825066, 8.635864721133736, 7.562681246721884, 8.26796230533871, 8.26796230533871, 7.9269635448629785, 8.785998208098329, 8.954286157204713, 8.365672383774996, 8.17526610411206, 8.109525659752872, 8.858510813033927, 8.707317560273212, 8.420902531097951, 8.073091199693154, 7.45182223652793, 8.698013622083925, 7.987184748233473, 8.211482916445066, 8.776630098427717, 8.06777619577889, 8.759197750371365, 7.987864096085687, 10.323381397296414, 8.85893722196655, 8.676757761087575, 8.379997952238393, 8.65486599654131, 7.823245690685523, 7.034387929915503, 8.166216268592143, 8.261268150577648, 8.402455513945814, 8.540323608805092, 9.471550124096849, 7.195937226475569, 9.078179468373843, 9.497247143960212, 7.835579246669965, 8.436416881388949, 10.515343329459467, 9.117896081584902, 7.333023014386481, 10.55999668199817, 7.085064293952548, 7.748028524432376, 7.808729306744399, 8.39660622842712, 7.454719949364001, 4.6913478822291435, 8.308938252595778, 8.840724916761715, 8.038189179973203, 7.223295679562314, 7.761319180947987, 8.045267716607803, 6.940222469119639, 7.1308988302963465, 7.826044013518965, 7.629975707027789, 6.226536669287466, 9.263407092912875, 7.1204443723924875, 10.362998829061379, 7.579678823090456, 6.561030665896573, 9.49016666846238, 7.093404625868766, 6.891625897052253, 6.85751406254539, 6.903747257584598, 7.848933726364071, 7.614805364711073, 7.581719640125308, 8.094683648698815, 7.242797922793756, 9.03788993497749, 8.027476530860483, 9.96114306502429, 7.836369760545124, 8.880029117468442, 7.928045600874777, 7.760893195851024, 7.868636894184167, 8.960339366492091, 8.697345730925353, 8.778325928634482, 8.939449862164238, 8.781248333236862, 8.351374706721296, 9.082620630373812, 8.427049641563272, 8.39931015075952, 7.899153483343097, 8.61286694148452, 7.040536390215956, 7.731930721948486, 8.065579427282092, 7.4770384723196965, 8.231109840328154, 6.778784897685177, 8.043342170441608, 7.956827122090111, 9.997660722553377, 7.44600149832412, 8.225235324101668, 8.206037762778815, 8.478660241699453, 8.575462099540212, 9.619199713152362, 7.7142311448490855, 7.303843225277705, 7.751045117971802, 8.253488028345904, 8.340933226000878, 7.990238185720363, 7.271008538280992, 7.016609683894219, 7.5766097669730375, 7.642524134232902, 9.700820421076743, 7.81156848934518, 9.338205742974079, 9.372714290960442, 12.514920386503473, 8.802672840312818, 9.058237593766226, 9.133459327640225, 10.163849814332947, 9.79740455372797, 9.827847638327382, 9.191157552559408, 9.142489705068009, 8.124446855715847, 9.479909389001037, 10.622740980180552, 9.69818391935025, 9.851509813443416, 9.297618380083243, 9.865370230423, 10.170915895960642, 8.472405008626103, 9.676837861892631, 9.541441064795485, 9.918129829272997, 9.570040734716603, 10.239531125865787, 10.351373376528244, 9.70558524377515, 9.235130540783402, 10.667791927412402, 9.898424758193666, 8.443761913330354, 7.469654172932128, 8.081165777725433, 10.79562902417728, 8.963032193662675, 9.62648162008158, 10.557659989689753, 10.557659989689753, 9.368113055848724, 8.84043543926657, 9.089302043599126, 9.403849118160702, 9.48417703760591, 8.974997713204976, 8.097730573664219, 10.832793221487778, 9.018089684104343, 10.726939049306129, 9.85314117809939, 12.324180073010284, 11.358654777942395, 9.765029759388561, 8.6628507638386, 11.342824926393229, 9.535318229171661, 8.702177865629675, 12.651866826692766, 10.914815699745034, 9.120306249272202, 10.654219444947001, 10.639334962628102, 8.387312270561717, 10.578878011506815, 12.21394160390887, 8.503297086224126, 9.169414205363537, 8.49596955496461, 6.915723448631314, 7.135687347028144, 6.255750041753367, 7.5688956634069955, 7.632885505395133, 9.869827351043494, 6.621405651764134, 7.419380582918692, 7.423568444259167, 7.798523053625206, 6.324358962381311, 9.320807825002154, 6.983789965258135, 7.644440761556566, 10.247041795304542, 9.315510869581722, 7.3987862754199485, 8.175829008714597, 7.392031567514591, 7.888709524182015, 6.606650186198215, 7.27931883541462, 7.681560362559537, 7.565793282428515, 7.923710333969238, 7.451241684987676, 7.671826797878781, 6.912742820493176, 6.826545223556594, 7.785305182539862, 6.773080375655535, 8.050065422915965, 7.507141079727608, 7.243512974665482, 8.542860938164814, 9.043695294567236, 8.670943791222156, 10.033023473885162, 6.677083461247136, 8.360539381370861, 9.930616219924381, 9.14120463314132, 8.556798446008598, 8.264620829411216, 8.710949125835855, 8.528528701079983, 10.663405136729926, 8.788440957404594, 9.3171298661577, 9.032767522204432, 9.307557822691543, 7.555381944240273, 8.746716349694486, 7.982757702011113, 7.606387389772652, 8.28828304520769, 8.759511722116487, 8.517593111437565, 9.54050705603412, 8.222285073872717, 9.854297308345357, 7.462789157412448, 7.773594467360194, 9.398644000447685, 7.72356247227797, 9.323222529032856, 8.21878715560148, 7.477604243197589, 7.892452043520352, 7.516977224604321, 6.302618975744905, 10.150191368259351, 8.967759126769497, 9.408453253565146, 7.193685818395112, 7.21890970761906, 7.9919305198524775, 8.447199819595703, 8.562740006372207, 9.053803514155955, 7.57095858316901, 7.6676260915849905, 7.075808863978387, 8.051659556841953, 7.647308832356238, 7.038783541388542, 10.142228824473392, 6.88653164253051, 7.829232537543592, 7.6128310304073565, 10.05539285624928, 6.926577033222725, 9.163667963777751, 8.284504227258497, 8.744488113852924, 6.742880635791903, 6.742880635791903, 7.643482907077201, 6.880384082186005, 8.43511508038063, 7.299797366758161, 8.602636673233706, 8.304494897963567, 12.097506998923398, 10.500454174622105, 9.972500423823082, 8.400434630806041, 9.13075589263334, 8.984192311641674, 10.053888353203654, 9.517825071724143, 8.151044945685024, 8.576216531865699, 9.759039648170255, 8.651024539049757, 8.827321452697849, 8.545002892055505, 7.581209826196346, 9.188197007290492, 8.648221453822641, 10.030384485724479, 8.600430789986293, 9.499121839871265, 9.647949933410914, 10.445462945294334, 9.01322999770879, 9.546383945305841, 9.325898712610455, 9.500918247539989, 9.175645402179295, 9.704426671737876, 9.680906343078094, 9.423110302862831, 9.59709825261865, 8.00603417874901, 7.784057002639929, 8.740816627567298, 9.079320109537779, 7.8119734296220225, 8.48920515487607, 7.226209010100671, 8.098642843759418, 7.395721608602045, 7.744569809354496, 8.790725628263576, 9.309370895439137, 8.280964400553373, 8.07961802938984, 7.968665700466235, 8.29254851397576, 8.677609912822142, 7.532623618788788, 8.3774712482411, 7.934871565945177, 9.596214830319344, 9.677652883410428, 8.303752415563412, 8.304494897963567, 9.732402627668161, 7.037905963447182, 8.488587934405903, 7.808729306744399, 8.577347114235984, 8.949365142352965, 7.870547844507712, 7.478734825567875, 10.183087048794553, 7.401231264413015, 8.519789817263504, 8.686935966003333, 10.95201634103625, 8.509161019718974, 6.826545223556594, 7.95892649305011, 8.36985260351753, 7.842671474979457, 9.322865162818028, 7.855544677915663, 9.124564594954778, 8.567125560164447, 8.17948018535889, 8.271292652979412, 8.271292652979412, 8.068716192714781, 8.482394685873542, 8.90354343566472, 7.918992488165245, 8.688285266258644, 6.948897222313312, 8.118802996980035, 8.241703159729818, 8.150756470275551, 8.210124405164267, 9.639652206558628, 7.352441100243583, 9.602990383037504, 9.227197489042606, 8.759668671029939, 7.710653323501202, 9.09133158539398, 8.412054873292933, 9.076466063419854, 9.566825297862628, 9.909618718466369, 8.821879862683842, 11.04934913630475, 8.933927891782632, 8.811652248147043, 9.04499391938819, 10.965297534680133, 9.286560397887591, 9.390492911485298, 9.867963996467081], \"xaxis\": \"x\", \"y\": [5.472270673671475, 5.720311776607412, 6.212606095751519, 6.1463292576688975, 6.322565239927284, 5.568344503761097, 5.356586274672012, 5.521460917862246, 6.194405391104672, 6.059123195581797, 6.263398262591624, 5.41610040220442, 4.248495242049359, 7.167809184316444, 7.170119543449628, 6.8658910748834385, 6.148468295917647, 6.7464121285733745, 7.575071699507561, 7.2991214627108, 7.195937226475569, 7.150701457592526, 7.6246189861593985, 7.416378479192928, 7.014814351275545, 7.307202314764738, 6.767343125265392, 6.413458957167357, 7.1372784372603855, 6.922643891475888, 7.237778191923443, 7.38025578842646, 7.037905963447182, 7.297091005160418, 6.992096427415888, 7.708410667257367, 7.1731917424865985, 6.8308742346461795, 7.516433302915632, 7.4821189235521155, 7.013915474810528, 7.543273346705446, 7.594381242551817, 7.512071245835466, 7.701652362642226, 6.883462586413092, 9.286653054825347, 6.710523109452428, 6.115892125483034, 6.139884552226255, 5.627621113690637, 5.37989735354046, 6.045005314036012, 5.424950017481403, 7.040536390215956, 6.932447891572509, 6.679599185844383, 5.720311776607412, 5.58724865840025, 5.700443573390687, 6.489204931325317, 5.056245805348308, 7.706162970199576, 5.147494476813453, 5.886104031450156, 6.423246963533519, 4.110873864173311, 6.2324480165505225, 5.501258210544727, 6.472346294500901, 6.2878585601617845, 5.575949103146316, 5.6240175061873385, 5.820082930352362, 5.942799375126701, 7.424165281042028, 5.262690188904886, 5.568344503761097, 6.274762021241939, 6.516193076042964, 6.115892125483034, 4.48863636973214, 6.09807428216624, 5.683579767338681, 5.631211781821365, 5.375278407684165, 5.8377304471659395, 5.968707559985366, 6.68586094706836, 5.8888779583328805, 8.027802848370312, 6.066108090103747, 6.251903883165888, 6.318968113746434, 6.3080984415095305, 6.07073772800249, 6.57507584059962, 6.597145701886651, 6.705639094860003, 7.088408778675395, 6.568077911411976, 5.855071922202427, 6.6039438246004725, 6.687108607866515, 6.7226297948554485, 6.648984550024776, 7.271008538280992, 5.877735781779639, 6.030685260261263, 6.466144724237619, 6.655440350367647, 5.442417710521793, 6.270988431858299, 6.68586094706836, 6.175867270105761, 6.113682179832232, 5.220355825078324, 6.1092475827643655, 5.10594547390058, 5.8944028342648505, 6.47543271670409, 6.523562306149512, 5.631211781821365, 3.58351893845611, 6.899723107284872, 6.206575926724928, 6.249975242259483, 5.752572638825633, 5.645446897643238, 5.455321115357702, 6.0063531596017325, 6.9782137426306985, 6.52649485957079, 4.990432586778736, 5.7899601708972535, 6.236369590203704, 8.799360083179907, 5.863631175598097, 5.780743515792329, 5.365976015021851, 6.214608098422191, 5.872117789475416, 6.206575926724928, 5.517452896464707, 5.902633333401366, 4.919980925828125, 5.918893854273146, 6.202535517187923, 5.564520407322694, 5.768320995793772, 4.9344739331306915, 7.321188556739478, 7.027314514039777, 5.521460917862246, 6.7912214627261855, 6.561030665896573, 6.982862751468942, 6.80903930604298, 7.247792581767846, 7.173958319756794, 6.507277712385012, 6.0844994130751715, 7.338888133838879, 6.97914527506881, 5.991464547107982, 2.4849066497880004, 1.3862943611198906, 5.697093486505405, 5.916202062607435, 5.560681631015528, 6.8658910748834385, 6.148468295917647, 5.662960480135946, 5.780743515792329, 5.733341276897746, 5.313205979041787, 5.713732805509369, 5.58724865840025, 5.733341276897746, 6.016157159698354, 5.726847747587197, 6.311734809152915, 5.998936561946683, 10.65913993844747, 6.282266746896006, 5.916202062607435, 6.013715156042802, 6.171700597410915, 5.493061443340548, 5.823045895483019, 6.670766320845874, 6.082218910376446, 5.236441962829949, 5.877735781779639, 5.720311776607412, 5.075173815233827, 5.777652323222656, 8.19118600464279, 5.602118820879701, 5.43372200355424, 5.924255797414532, 5.605802066295998, 5.407171771460119, 5.3981627015177525, 5.786897381366708, 5.170483995038151, 7.00397413672268, 5.572154032177765, 5.293304824724492, 5.579729825986222, 5.817111159963204, 5.3706380281276624, 6.135564891081739, 5.3230099791384085, 5.351858133476067, 7.023758954738443, 6.2878585601617845, 5.375278407684165, 5.655991810819852, 5.60947179518496, 6.184148890937483, 5.123963979403259, 5.220355825078324, 5.877735781779639, 6.102558594613569, 5.602118820879701, 5.863631175598097, 5.298317366548036, 5.652489180268651, 4.852030263919617, 5.3230099791384085, 5.834810737062605, 5.932245187448011, 5.4680601411351315, 4.9344739331306915, 5.736572297479192, 6.569481420414296, 6.51471269087253, 6.61338421837956, 4.844187086458591, 5.662960480135946, 6.186208623900494, 6.56244409369372, 5.6937321388027, 5.41610040220442, 6.432940092739179, 5.5134287461649825, 6.834108738813838, 5.231108616854587, 6.437751649736401, 5.472270673671475, 6.975413927455952, 6.154858094016418, 6.180016653652572, 6.148468295917647, 6.333279628139691, 6.0844994130751715, 6.558197802812269, 6.208590026096629, 6.827629234502852, 6.280395838960195, 6.974478911025045, 5.973809611869261, 6.19644412779452, 6.98933526597456, 6.269096283706261, 6.721425700790643, 6.2166061010848646, 6.208590026096629, 5.8522024797744745, 6.311734809152915, 8.56483984488359, 7.843848638152472, 5.883322388488279, 6.285998094508865, 6.113682179832232, 5.3471075307174685, 4.836281906951478, 6.410174881966167, 5.616771097666572, 4.8283137373023015, 5.099866427824199, 4.852030263919617, 6.3835066348840055, 6.171700597410915, 6.133398042996649, 5.365976015021851, 6.625392368007956, 3.1354942159291497, 5.598421958998375, 5.993961427306569, 5.327876168789581, 5.75890177387728, 6.09807428216624, 5.402677381872279, 5.209486152841421, 5.556828061699537, 6.905753276311464, 5.857933154483459, 5.869296913133774, 5.998936561946683, 5.442417710521793, 5.641907070938114, 5.53338948872752, 9.783746350923579, 6.3080984415095305, 6.602587892189336, 5.950642552587727, 5.986452005284438, 6.0844994130751715, 6.900730664045173, 7.112327444710911, 6.040254711277414, 6.095824562432225, 7.149131598557407, 6.464588303689961, 6.3578422665081, 5.631211781821365, 5.905361848054571, 6.12029741895095, 5.908082938168931, 6.635946555686647, 5.934894195619588, 6.638567789166521, 6.129050210060545, 7.304515946460155, 6.352629396319567, 6.037870919922137, 6.535241271013659, 6.18826412308259, 6.440946540632921, 6.102558594613569, 6.771935555839602, 6.481577129276431, 6.432940092739179, 5.262690188904886, 5.814130531825066, 7.188412736496954, 7.0909098220799835, 6.656726524178391, 7.190676034332207, 6.981934677156389, 6.591673732008658, 6.710523109452428, 6.163314804034641, 6.943122422819428, 7.192182058713246, 6.981934677156389, 6.851184927493743, 6.754604099487962, 7.025538314638521, 7.236339342754344, 6.697034247666484, 6.699500340161678, 7.1569563646156364, 7.513163545234075, 8.65834547117212, 7.149131598557407, 6.8679744089702925, 7.355001921105257, 6.09807428216624, 6.709304340258298, 6.0473721790462776, 7.143617602704121, 6.115892125483034, 6.895682697747868, 6.386879319362645, 7.367708572374371, 6.9782137426306985, 7.316548177182976, 6.484635235635252, 7.733245646529795, 7.013915474810528, 5.940171252720432, 6.658011045870748, 6.805722553416985, 7.293017679772782, 7.353081920515432, 6.473890696352274, 7.381501894506707, 7.0909098220799835, 6.57507584059962, 5.556828061699537, 6.905753276311464, 6.769641976852503, 7.085064293952548, 7.020190708311925, 7.265429723253953, 6.647688373563329, 6.304448802421981, 7.059617628291383, 6.870053411798126, 6.911747300251674, 6.660575149839686, 7.935945103353701, 5.293304824724492, 6.595780513961311, 6.976348070447749, 5.736572297479192, 4.8283137373023015, 6.634633357861686, 6.7912214627261855, 6.502790045915623, 7.553810852008231, 8.222553638396958, 6.555356891810665, 10.081215240319855, 7.165493475060845, 7.383989457978509, 7.291656209174461, 7.916807490937603, 6.962243464266207, 6.975413927455952, 6.870053411798126], \"yaxis\": \"y\"}, {\"hovertemplate\": \"<b>OLS trendline</b><br>y = 0.278937 * x + 3.88615<br>R<sup>2</sup>=0.135296<br><br>x=%{x}<br>y=%{y} <b>(trend)</b><extra></extra>\", \"legendgroup\": \"\", \"line\": {\"color\": \"darkred\"}, \"marker\": {\"color\": \"#636efa\", \"symbol\": \"circle\"}, \"mode\": \"lines\", \"name\": \"\", \"showlegend\": false, \"type\": \"scatter\", \"x\": [4.6913478822291435, 5.814130531825066, 6.226536669287466, 6.255750041753367, 6.302618975744905, 6.324358962381311, 6.561030665896573, 6.606650186198215, 6.621405651764134, 6.677083461247136, 6.742880635791903, 6.742880635791903, 6.773080375655535, 6.778784897685177, 6.826545223556594, 6.826545223556594, 6.85751406254539, 6.880384082186005, 6.88653164253051, 6.891625897052253, 6.903747257584598, 6.912742820493176, 6.915723448631314, 6.926577033222725, 6.940222469119639, 6.948897222313312, 6.983789965258135, 7.016609683894219, 7.034387929915503, 7.037905963447182, 7.038783541388542, 7.040536390215956, 7.075808863978387, 7.085064293952548, 7.093404625868766, 7.1204443723924875, 7.1308988302963465, 7.135687347028144, 7.193685818395112, 7.195937226475569, 7.21890970761906, 7.223295679562314, 7.226209010100671, 7.242797922793756, 7.243512974665482, 7.271008538280992, 7.27931883541462, 7.299797366758161, 7.303843225277705, 7.333023014386481, 7.352441100243583, 7.392031567514591, 7.395721608602045, 7.3987862754199485, 7.401231264413015, 7.419380582918692, 7.423568444259167, 7.44600149832412, 7.451241684987676, 7.45182223652793, 7.454719949364001, 7.462789157412448, 7.469654172932128, 7.4770384723196965, 7.477604243197589, 7.478734825567875, 7.507141079727608, 7.516977224604321, 7.532623618788788, 7.555381944240273, 7.562681246721884, 7.565793282428515, 7.5688956634069955, 7.57095858316901, 7.5766097669730375, 7.579678823090456, 7.581209826196346, 7.581719640125308, 7.606387389772652, 7.6128310304073565, 7.614805364711073, 7.629975707027789, 7.632885505395133, 7.642524134232902, 7.643482907077201, 7.644440761556566, 7.647308832356238, 7.6676260915849905, 7.671826797878781, 7.681560362559537, 7.710653323501202, 7.7142311448490855, 7.72356247227797, 7.731930721948486, 7.744569809354496, 7.748028524432376, 7.751045117971802, 7.760893195851024, 7.761319180947987, 7.773594467360194, 7.784057002639929, 7.785305182539862, 7.798523053625206, 7.808729306744399, 7.808729306744399, 7.81156848934518, 7.8119734296220225, 7.823245690685523, 7.826044013518965, 7.829232537543592, 7.835579246669965, 7.836369760545124, 7.842671474979457, 7.848933726364071, 7.855544677915663, 7.868636894184167, 7.870547844507712, 7.888709524182015, 7.892452043520352, 7.899153483343097, 7.918992488165245, 7.923710333969238, 7.9269635448629785, 7.928045600874777, 7.934871565945177, 7.956827122090111, 7.95892649305011, 7.968665700466235, 7.982757702011113, 7.987184748233473, 7.987864096085687, 7.990238185720363, 7.9919305198524775, 8.00603417874901, 8.027476530860483, 8.038189179973203, 8.043342170441608, 8.045267716607803, 8.050065422915965, 8.051659556841953, 8.065579427282092, 8.06777619577889, 8.068716192714781, 8.073091199693154, 8.07961802938984, 8.081165777725433, 8.094683648698815, 8.097730573664219, 8.098642843759418, 8.109525659752872, 8.118802996980035, 8.124446855715847, 8.150756470275551, 8.151044945685024, 8.166216268592143, 8.17526610411206, 8.175829008714597, 8.17948018535889, 8.206037762778815, 8.210124405164267, 8.211482916445066, 8.21878715560148, 8.222285073872717, 8.225235324101668, 8.231109840328154, 8.241703159729818, 8.253488028345904, 8.261268150577648, 8.264620829411216, 8.26796230533871, 8.26796230533871, 8.271292652979412, 8.271292652979412, 8.280964400553373, 8.284504227258497, 8.28828304520769, 8.29254851397576, 8.303752415563412, 8.304494897963567, 8.304494897963567, 8.308938252595778, 8.340933226000878, 8.351374706721296, 8.360539381370861, 8.365672383774996, 8.36985260351753, 8.3774712482411, 8.379997952238393, 8.387312270561717, 8.39660622842712, 8.39931015075952, 8.400434630806041, 8.402455513945814, 8.412054873292933, 8.420902531097951, 8.427049641563272, 8.43511508038063, 8.436416881388949, 8.443761913330354, 8.447199819595703, 8.472405008626103, 8.478660241699453, 8.482394685873542, 8.488587934405903, 8.48920515487607, 8.49596955496461, 8.503297086224126, 8.509161019718974, 8.517593111437565, 8.519789817263504, 8.528528701079983, 8.540323608805092, 8.542860938164814, 8.545002892055505, 8.556798446008598, 8.562740006372207, 8.567125560164447, 8.575462099540212, 8.576216531865699, 8.577347114235984, 8.600430789986293, 8.602636673233706, 8.61286694148452, 8.635864721133736, 8.648221453822641, 8.651024539049757, 8.65486599654131, 8.6628507638386, 8.670943791222156, 8.676757761087575, 8.677609912822142, 8.686935966003333, 8.688285266258644, 8.697345730925353, 8.698013622083925, 8.702177865629675, 8.707317560273212, 8.710949125835855, 8.740816627567298, 8.744488113852924, 8.746716349694486, 8.759197750371365, 8.759511722116487, 8.759668671029939, 8.776630098427717, 8.778325928634482, 8.781248333236862, 8.785998208098329, 8.788440957404594, 8.790725628263576, 8.802672840312818, 8.811652248147043, 8.821879862683842, 8.827321452697849, 8.84043543926657, 8.840724916761715, 8.858510813033927, 8.85893722196655, 8.880029117468442, 8.90354343566472, 8.933927891782632, 8.939449862164238, 8.949365142352965, 8.954286157204713, 8.960339366492091, 8.963032193662675, 8.967759126769497, 8.974997713204976, 8.984192311641674, 9.01322999770879, 9.018089684104343, 9.032767522204432, 9.03788993497749, 9.043695294567236, 9.04499391938819, 9.053803514155955, 9.058237593766226, 9.076466063419854, 9.078179468373843, 9.079320109537779, 9.082620630373812, 9.089302043599126, 9.09133158539398, 9.117896081584902, 9.120306249272202, 9.124564594954778, 9.13075589263334, 9.133459327640225, 9.14120463314132, 9.142489705068009, 9.163667963777751, 9.169414205363537, 9.175645402179295, 9.188197007290492, 9.191157552559408, 9.227197489042606, 9.235130540783402, 9.263407092912875, 9.286560397887591, 9.297618380083243, 9.307557822691543, 9.309370895439137, 9.315510869581722, 9.3171298661577, 9.320807825002154, 9.322865162818028, 9.323222529032856, 9.325898712610455, 9.338205742974079, 9.368113055848724, 9.372714290960442, 9.390492911485298, 9.398644000447685, 9.403849118160702, 9.408453253565146, 9.423110302862831, 9.471550124096849, 9.479909389001037, 9.48417703760591, 9.49016666846238, 9.497247143960212, 9.499121839871265, 9.500918247539989, 9.517825071724143, 9.535318229171661, 9.54050705603412, 9.541441064795485, 9.546383945305841, 9.566825297862628, 9.570040734716603, 9.596214830319344, 9.59709825261865, 9.602990383037504, 9.619199713152362, 9.62648162008158, 9.639652206558628, 9.647949933410914, 9.676837861892631, 9.677652883410428, 9.680906343078094, 9.69818391935025, 9.700820421076743, 9.704426671737876, 9.70558524377515, 9.732402627668161, 9.759039648170255, 9.765029759388561, 9.79740455372797, 9.827847638327382, 9.851509813443416, 9.85314117809939, 9.854297308345357, 9.865370230423, 9.867963996467081, 9.869827351043494, 9.898424758193666, 9.909618718466369, 9.918129829272997, 9.930616219924381, 9.96114306502429, 9.972500423823082, 9.997660722553377, 10.030384485724479, 10.033023473885162, 10.053888353203654, 10.05539285624928, 10.142228824473392, 10.150191368259351, 10.163849814332947, 10.170915895960642, 10.183087048794553, 10.239531125865787, 10.247041795304542, 10.323381397296414, 10.34238743673053, 10.351373376528244, 10.362998829061379, 10.445462945294334, 10.500454174622105, 10.515343329459467, 10.557659989689753, 10.557659989689753, 10.55999668199817, 10.578878011506815, 10.622740980180552, 10.629174524663854, 10.639334962628102, 10.654219444947001, 10.663405136729926, 10.667791927412402, 10.726939049306129, 10.759964583708427, 10.79562902417728, 10.832793221487778, 10.859710283001629, 10.88721260865988, 10.914815699745034, 10.934320518782949, 10.95201634103625, 10.964934347972234, 10.965297534680133, 10.984292222554274, 11.006838595551411, 11.04934913630475, 11.140454997418148, 11.20355659128086, 11.342824926393229, 11.358654777942395, 11.558242939660687, 12.097506998923398, 12.21394160390887, 12.324180073010284, 12.514920386503473, 12.651866826692766], \"xaxis\": \"x\", \"y\": [5.194744379588937, 5.50793015339349, 5.622965539208716, 5.631114233583773, 5.644187719680852, 5.650251809235205, 5.716268335790674, 5.7289933140145575, 5.733109161282746, 5.748639769858637, 5.766993045117541, 5.766993045117541, 5.775416873987084, 5.777008077009932, 5.790330205402797, 5.790330205402797, 5.798968564577678, 5.8053478622989685, 5.807062645159388, 5.8084836219129246, 5.81186471947375, 5.814373916005549, 5.815205323874386, 5.818232791648347, 5.822039010422579, 5.8244587212121095, 5.834191602908554, 5.8433462411466754, 5.848305254130237, 5.8492865643190655, 5.849531353394438, 5.850020288021788, 5.859859090743993, 5.862440773850153, 5.864767202127173, 5.87230959151265, 5.875225728032489, 5.876561423163299, 5.892739350512891, 5.893367351829157, 5.899775229868353, 5.900998640309748, 5.901811276379011, 5.906438540133246, 5.906637994652638, 5.914307528351093, 5.916625578811953, 5.922337801642895, 5.92346634182082, 5.9316056685505085, 5.937022093757246, 5.948065345211138, 5.949094634694513, 5.949949484071785, 5.950631482292912, 5.955694001171585, 5.956862151209328, 5.963119563005511, 5.964581245652369, 5.964743183034846, 5.965551462747001, 5.967802264509526, 5.969717172259914, 5.971776927563874, 5.971934742070762, 5.9722501034762985, 5.98017366258465, 5.982917328641099, 5.987281688984286, 5.993629831048633, 5.99566587755929, 5.996533939878599, 5.997399309135714, 5.997974734060739, 5.9995510590718295, 6.000407132787726, 6.000834186405439, 6.000976392441394, 6.0078571438175405, 6.00965451446539, 6.010205229616609, 6.014436801416414, 6.015248452232019, 6.017937023730749, 6.0182044610796, 6.018471642262369, 6.019271653709861, 6.024938891759393, 6.026110624731594, 6.0288256773622315, 6.036940784491879, 6.037938771722778, 6.040541625447397, 6.0428758410227745, 6.046401351833669, 6.047366115903033, 6.048207555857808, 6.050954550471772, 6.051073373533626, 6.054497406738149, 6.057415796338061, 6.05776396006142, 6.0614509151327365, 6.064297818121423, 6.064297818121423, 6.065089771577523, 6.065202724457578, 6.068346976646522, 6.069127532796246, 6.070016930547723, 6.071787263398494, 6.07200776707281, 6.073765549233162, 6.0755123236835455, 6.077356363558954, 6.08100826883585, 6.081541303841331, 6.086607270708948, 6.087651198325194, 6.08952047873957, 6.095054313875847, 6.096370296260636, 6.0972777375819565, 6.097579563184158, 6.099483578314161, 6.10560779820929, 6.106193390726992, 6.108910017326059, 6.112840799842047, 6.114075667425117, 6.114265162767652, 6.114927384524984, 6.115399439356695, 6.119333473540938, 6.12531454177408, 6.128302697409609, 6.12974005779974, 6.13027716412773, 6.131615422572629, 6.132060085720335, 6.135942854479385, 6.136555614786811, 6.136817814837594, 6.138038166743115, 6.1398587419094515, 6.140290466393537, 6.1440611025736676, 6.14491100308946, 6.145165469094779, 6.1482010905922335, 6.150788884444749, 6.152363166222308, 6.159701894690677, 6.159782361194476, 6.164014206517358, 6.16653854169579, 6.166695556692048, 6.167714005439052, 6.175121899956862, 6.176261816269436, 6.17664075551191, 6.178678179044486, 6.179653878340228, 6.180476812682153, 6.1821154333989785, 6.185070303546966, 6.18835754101723, 6.1905277060107124, 6.191462892634043, 6.192394954350865, 6.192394954350865, 6.19332391197527, 6.19332391197527, 6.196021721519338, 6.197009110633497, 6.198063163280205, 6.199252960911339, 6.202378145104042, 6.202585251016405, 6.202585251016405, 6.2038246676205695, 6.212749253788104, 6.215661770489593, 6.218218138565661, 6.21964992354244, 6.220815942054759, 6.2229410649749894, 6.223645856545158, 6.22568609153166, 6.228278521497362, 6.229032745841927, 6.229346405082764, 6.22991010443288, 6.232587722212454, 6.235055662518638, 6.236770319891049, 6.239020070275059, 6.239383190916686, 6.2414319930717745, 6.24239095279062, 6.249421615967697, 6.2511664327504555, 6.2522081079035345, 6.253935634896109, 6.254107800604785, 6.255994642975226, 6.258038563540275, 6.259674232340272, 6.2620262558335344, 6.262638998659732, 6.265076597861356, 6.268366635611913, 6.26907439099022, 6.269671861468545, 6.272962079476084, 6.274619401292336, 6.275842695095886, 6.278168065492543, 6.278378504682822, 6.278693866088358, 6.285132760432438, 6.285748063182273, 6.288601664882933, 6.295016599614796, 6.298463351210275, 6.29924523576844, 6.300316760909537, 6.302544009010985, 6.304801454870566, 6.306423186958993, 6.306660883721126, 6.309262266262213, 6.309638636207639, 6.31216593624981, 6.312352235895062, 6.3135137980528455, 6.3149474497437, 6.315960428231804, 6.324291583549121, 6.325315697409261, 6.325937235127634, 6.329418761254315, 6.3295063396328946, 6.329550118512917, 6.33428129045106, 6.3347543204678125, 6.335569487630482, 6.336894404108751, 6.337575777598062, 6.338213057138422, 6.34154557822057, 6.344050268502238, 6.346903129983518, 6.348420991503625, 6.3520789693256585, 6.352159715348364, 6.357120862270989, 6.357239803556347, 6.363123116427403, 6.369682132940917, 6.378157486032936, 6.3796977686223695, 6.38246350845591, 6.383836162232491, 6.385524627079494, 6.386275756571427, 6.387594273742417, 6.38961338429321, 6.392178099224685, 6.400277788139272, 6.401633335132082, 6.405727529217472, 6.407156360352914, 6.408775690715726, 6.4091379254007546, 6.411595248512436, 6.4128320779685675, 6.417916675041562, 6.418394607307926, 6.418712774484529, 6.419633412305538, 6.421497106558233, 6.422063221128777, 6.429473045548736, 6.430145330814649, 6.4313331415527335, 6.433060124379741, 6.433814212791123, 6.435974666105562, 6.436333120385115, 6.442240523161805, 6.443843363318054, 6.44558147549602, 6.449082584246369, 6.449908390257232, 6.459961266830822, 6.462174089543185, 6.470061469939009, 6.476519786459352, 6.47960426831513, 6.482376747944725, 6.482882481259738, 6.48459514804674, 6.485046746310765, 6.486072665607911, 6.48664653352088, 6.486746216228449, 6.487492703204262, 6.4909255909756, 6.499267851099082, 6.500551306431633, 6.505510423878147, 6.507784065268094, 6.509235965882413, 6.510520230214302, 6.514608625530743, 6.528120290412266, 6.530451999802679, 6.531642405471242, 6.533313135932977, 6.53528814347205, 6.5358110657756345, 6.536312150581319, 6.5410280916555745, 6.545907582849581, 6.547354939340742, 6.547615469067288, 6.5489942219880035, 6.554696074274742, 6.55559297901369, 6.562893906212672, 6.563140325496496, 6.564783859465649, 6.569305243543593, 6.571336437788732, 6.575010203426951, 6.577324747569564, 6.585382663532564, 6.585610003298466, 6.586517514012073, 6.59133687161099, 6.592072289845006, 6.593078207067049, 6.593401375830062, 6.600881740020735, 6.60831179416416, 6.609982658616648, 6.619013190946838, 6.627504897699427, 6.634105156998304, 6.63456020517911, 6.634882692835855, 6.637971341979491, 6.6386948396447565, 6.639214598428967, 6.647191477204529, 6.6503138883953365, 6.652687953246508, 6.656170871262374, 6.664685941928871, 6.667853931036163, 6.674872072641608, 6.683999945337385, 6.684736057130225, 6.690556046757829, 6.690975708524695, 6.71519748458449, 6.717418533723391, 6.721228381519014, 6.723199374073211, 6.7265943605559055, 6.742338709616341, 6.744433714220137, 6.765727663971107, 6.771029154129755, 6.773535666418594, 6.7767784368236486, 6.799780741021012, 6.815119836896495, 6.819272975066838, 6.8310766629701165, 6.8310766629701165, 6.8317284532244615, 6.836995157153982, 6.849230167901959, 6.851024722358278, 6.853858845798973, 6.858010680630409, 6.860572911165412, 6.861796549983579, 6.87829487861848, 6.887506926516455, 6.89745506330817, 6.9078215379742165, 6.915329705954719, 6.923001125837993, 6.930700652940601, 6.936141271252172, 6.9410772931861615, 6.94468060501122, 6.94478191127044, 6.950080235057488, 6.956369255711785, 6.9682270240924025, 6.993639831835022, 7.011241209545397, 7.050088319726816, 7.054503853141428, 7.110176402848593, 7.260597173730614, 7.293075108683675, 7.323824711254556, 7.377029267540304, 7.415228715007628], \"yaxis\": \"y\"}],                        {\"legend\": {\"tracegroupgap\": 0}, \"margin\": {\"t\": 60}, \"template\": {\"data\": {\"bar\": [{\"error_x\": {\"color\": \"#2a3f5f\"}, \"error_y\": {\"color\": \"#2a3f5f\"}, \"marker\": {\"line\": {\"color\": \"#E5ECF6\", \"width\": 0.5}}, \"type\": \"bar\"}], \"barpolar\": [{\"marker\": {\"line\": {\"color\": \"#E5ECF6\", \"width\": 0.5}}, \"type\": \"barpolar\"}], \"carpet\": [{\"aaxis\": {\"endlinecolor\": \"#2a3f5f\", \"gridcolor\": \"white\", \"linecolor\": \"white\", \"minorgridcolor\": \"white\", \"startlinecolor\": \"#2a3f5f\"}, \"baxis\": {\"endlinecolor\": \"#2a3f5f\", \"gridcolor\": \"white\", \"linecolor\": \"white\", \"minorgridcolor\": \"white\", \"startlinecolor\": \"#2a3f5f\"}, \"type\": \"carpet\"}], \"choropleth\": [{\"colorbar\": {\"outlinewidth\": 0, \"ticks\": \"\"}, \"type\": \"choropleth\"}], \"contour\": [{\"colorbar\": {\"outlinewidth\": 0, \"ticks\": \"\"}, \"colorscale\": [[0.0, \"#0d0887\"], [0.1111111111111111, \"#46039f\"], [0.2222222222222222, \"#7201a8\"], [0.3333333333333333, \"#9c179e\"], [0.4444444444444444, \"#bd3786\"], [0.5555555555555556, \"#d8576b\"], [0.6666666666666666, \"#ed7953\"], [0.7777777777777778, \"#fb9f3a\"], [0.8888888888888888, \"#fdca26\"], [1.0, \"#f0f921\"]], \"type\": \"contour\"}], \"contourcarpet\": [{\"colorbar\": {\"outlinewidth\": 0, \"ticks\": \"\"}, \"type\": \"contourcarpet\"}], \"heatmap\": [{\"colorbar\": {\"outlinewidth\": 0, \"ticks\": \"\"}, \"colorscale\": [[0.0, \"#0d0887\"], [0.1111111111111111, \"#46039f\"], [0.2222222222222222, \"#7201a8\"], [0.3333333333333333, \"#9c179e\"], [0.4444444444444444, \"#bd3786\"], [0.5555555555555556, \"#d8576b\"], [0.6666666666666666, \"#ed7953\"], [0.7777777777777778, \"#fb9f3a\"], [0.8888888888888888, \"#fdca26\"], [1.0, \"#f0f921\"]], \"type\": \"heatmap\"}], \"heatmapgl\": [{\"colorbar\": {\"outlinewidth\": 0, \"ticks\": \"\"}, \"colorscale\": [[0.0, \"#0d0887\"], [0.1111111111111111, \"#46039f\"], [0.2222222222222222, \"#7201a8\"], [0.3333333333333333, \"#9c179e\"], [0.4444444444444444, \"#bd3786\"], [0.5555555555555556, \"#d8576b\"], [0.6666666666666666, \"#ed7953\"], [0.7777777777777778, \"#fb9f3a\"], [0.8888888888888888, \"#fdca26\"], [1.0, \"#f0f921\"]], \"type\": \"heatmapgl\"}], \"histogram\": [{\"marker\": {\"colorbar\": {\"outlinewidth\": 0, \"ticks\": \"\"}}, \"type\": \"histogram\"}], \"histogram2d\": [{\"colorbar\": {\"outlinewidth\": 0, \"ticks\": \"\"}, \"colorscale\": [[0.0, \"#0d0887\"], [0.1111111111111111, \"#46039f\"], [0.2222222222222222, \"#7201a8\"], [0.3333333333333333, \"#9c179e\"], [0.4444444444444444, \"#bd3786\"], [0.5555555555555556, \"#d8576b\"], [0.6666666666666666, \"#ed7953\"], [0.7777777777777778, \"#fb9f3a\"], [0.8888888888888888, \"#fdca26\"], [1.0, \"#f0f921\"]], \"type\": \"histogram2d\"}], \"histogram2dcontour\": [{\"colorbar\": {\"outlinewidth\": 0, \"ticks\": \"\"}, \"colorscale\": [[0.0, \"#0d0887\"], [0.1111111111111111, \"#46039f\"], [0.2222222222222222, \"#7201a8\"], [0.3333333333333333, \"#9c179e\"], [0.4444444444444444, \"#bd3786\"], [0.5555555555555556, \"#d8576b\"], [0.6666666666666666, \"#ed7953\"], [0.7777777777777778, \"#fb9f3a\"], [0.8888888888888888, \"#fdca26\"], [1.0, \"#f0f921\"]], \"type\": \"histogram2dcontour\"}], \"mesh3d\": [{\"colorbar\": {\"outlinewidth\": 0, \"ticks\": \"\"}, \"type\": \"mesh3d\"}], \"parcoords\": [{\"line\": {\"colorbar\": {\"outlinewidth\": 0, \"ticks\": \"\"}}, \"type\": \"parcoords\"}], \"pie\": [{\"automargin\": true, \"type\": \"pie\"}], \"scatter\": [{\"marker\": {\"colorbar\": {\"outlinewidth\": 0, \"ticks\": \"\"}}, \"type\": \"scatter\"}], \"scatter3d\": [{\"line\": {\"colorbar\": {\"outlinewidth\": 0, \"ticks\": \"\"}}, \"marker\": {\"colorbar\": {\"outlinewidth\": 0, \"ticks\": \"\"}}, \"type\": \"scatter3d\"}], \"scattercarpet\": [{\"marker\": {\"colorbar\": {\"outlinewidth\": 0, \"ticks\": \"\"}}, \"type\": \"scattercarpet\"}], \"scattergeo\": [{\"marker\": {\"colorbar\": {\"outlinewidth\": 0, \"ticks\": \"\"}}, \"type\": \"scattergeo\"}], \"scattergl\": [{\"marker\": {\"colorbar\": {\"outlinewidth\": 0, \"ticks\": \"\"}}, \"type\": \"scattergl\"}], \"scattermapbox\": [{\"marker\": {\"colorbar\": {\"outlinewidth\": 0, \"ticks\": \"\"}}, \"type\": \"scattermapbox\"}], \"scatterpolar\": [{\"marker\": {\"colorbar\": {\"outlinewidth\": 0, \"ticks\": \"\"}}, \"type\": \"scatterpolar\"}], \"scatterpolargl\": [{\"marker\": {\"colorbar\": {\"outlinewidth\": 0, \"ticks\": \"\"}}, \"type\": \"scatterpolargl\"}], \"scatterternary\": [{\"marker\": {\"colorbar\": {\"outlinewidth\": 0, \"ticks\": \"\"}}, \"type\": \"scatterternary\"}], \"surface\": [{\"colorbar\": {\"outlinewidth\": 0, \"ticks\": \"\"}, \"colorscale\": [[0.0, \"#0d0887\"], [0.1111111111111111, \"#46039f\"], [0.2222222222222222, \"#7201a8\"], [0.3333333333333333, \"#9c179e\"], [0.4444444444444444, \"#bd3786\"], [0.5555555555555556, \"#d8576b\"], [0.6666666666666666, \"#ed7953\"], [0.7777777777777778, \"#fb9f3a\"], [0.8888888888888888, \"#fdca26\"], [1.0, \"#f0f921\"]], \"type\": \"surface\"}], \"table\": [{\"cells\": {\"fill\": {\"color\": \"#EBF0F8\"}, \"line\": {\"color\": \"white\"}}, \"header\": {\"fill\": {\"color\": \"#C8D4E3\"}, \"line\": {\"color\": \"white\"}}, \"type\": \"table\"}]}, \"layout\": {\"annotationdefaults\": {\"arrowcolor\": \"#2a3f5f\", \"arrowhead\": 0, \"arrowwidth\": 1}, \"coloraxis\": {\"colorbar\": {\"outlinewidth\": 0, \"ticks\": \"\"}}, \"colorscale\": {\"diverging\": [[0, \"#8e0152\"], [0.1, \"#c51b7d\"], [0.2, \"#de77ae\"], [0.3, \"#f1b6da\"], [0.4, \"#fde0ef\"], [0.5, \"#f7f7f7\"], [0.6, \"#e6f5d0\"], [0.7, \"#b8e186\"], [0.8, \"#7fbc41\"], [0.9, \"#4d9221\"], [1, \"#276419\"]], \"sequential\": [[0.0, \"#0d0887\"], [0.1111111111111111, \"#46039f\"], [0.2222222222222222, \"#7201a8\"], [0.3333333333333333, \"#9c179e\"], [0.4444444444444444, \"#bd3786\"], [0.5555555555555556, \"#d8576b\"], [0.6666666666666666, \"#ed7953\"], [0.7777777777777778, \"#fb9f3a\"], [0.8888888888888888, \"#fdca26\"], [1.0, \"#f0f921\"]], \"sequentialminus\": [[0.0, \"#0d0887\"], [0.1111111111111111, \"#46039f\"], [0.2222222222222222, \"#7201a8\"], [0.3333333333333333, \"#9c179e\"], [0.4444444444444444, \"#bd3786\"], [0.5555555555555556, \"#d8576b\"], [0.6666666666666666, \"#ed7953\"], [0.7777777777777778, \"#fb9f3a\"], [0.8888888888888888, \"#fdca26\"], [1.0, \"#f0f921\"]]}, \"colorway\": [\"#636efa\", \"#EF553B\", \"#00cc96\", \"#ab63fa\", \"#FFA15A\", \"#19d3f3\", \"#FF6692\", \"#B6E880\", \"#FF97FF\", \"#FECB52\"], \"font\": {\"color\": \"#2a3f5f\"}, \"geo\": {\"bgcolor\": \"white\", \"lakecolor\": \"white\", \"landcolor\": \"#E5ECF6\", \"showlakes\": true, \"showland\": true, \"subunitcolor\": \"white\"}, \"hoverlabel\": {\"align\": \"left\"}, \"hovermode\": \"closest\", \"mapbox\": {\"style\": \"light\"}, \"paper_bgcolor\": \"white\", \"plot_bgcolor\": \"#E5ECF6\", \"polar\": {\"angularaxis\": {\"gridcolor\": \"white\", \"linecolor\": \"white\", \"ticks\": \"\"}, \"bgcolor\": \"#E5ECF6\", \"radialaxis\": {\"gridcolor\": \"white\", \"linecolor\": \"white\", \"ticks\": \"\"}}, \"scene\": {\"xaxis\": {\"backgroundcolor\": \"#E5ECF6\", \"gridcolor\": \"white\", \"gridwidth\": 2, \"linecolor\": \"white\", \"showbackground\": true, \"ticks\": \"\", \"zerolinecolor\": \"white\"}, \"yaxis\": {\"backgroundcolor\": \"#E5ECF6\", \"gridcolor\": \"white\", \"gridwidth\": 2, \"linecolor\": \"white\", \"showbackground\": true, \"ticks\": \"\", \"zerolinecolor\": \"white\"}, \"zaxis\": {\"backgroundcolor\": \"#E5ECF6\", \"gridcolor\": \"white\", \"gridwidth\": 2, \"linecolor\": \"white\", \"showbackground\": true, \"ticks\": \"\", \"zerolinecolor\": \"white\"}}, \"shapedefaults\": {\"line\": {\"color\": \"#2a3f5f\"}}, \"ternary\": {\"aaxis\": {\"gridcolor\": \"white\", \"linecolor\": \"white\", \"ticks\": \"\"}, \"baxis\": {\"gridcolor\": \"white\", \"linecolor\": \"white\", \"ticks\": \"\"}, \"bgcolor\": \"#E5ECF6\", \"caxis\": {\"gridcolor\": \"white\", \"linecolor\": \"white\", \"ticks\": \"\"}}, \"title\": {\"x\": 0.05}, \"xaxis\": {\"automargin\": true, \"gridcolor\": \"white\", \"linecolor\": \"white\", \"ticks\": \"\", \"title\": {\"standoff\": 15}, \"zerolinecolor\": \"white\", \"zerolinewidth\": 2}, \"yaxis\": {\"automargin\": true, \"gridcolor\": \"white\", \"linecolor\": \"white\", \"ticks\": \"\", \"title\": {\"standoff\": 15}, \"zerolinecolor\": \"white\", \"zerolinewidth\": 2}}}, \"xaxis\": {\"anchor\": \"y\", \"domain\": [0.0, 1.0], \"title\": {\"text\": \"x\"}}, \"yaxis\": {\"anchor\": \"x\", \"domain\": [0.0, 1.0], \"title\": {\"text\": \"y\"}}},                        {\"responsive\": true}                    ).then(function(){\n",
       "                            \n",
       "var gd = document.getElementById('df749f5a-adc5-4e49-b1e1-93e507d24bba');\n",
       "var x = new MutationObserver(function (mutations, observer) {{\n",
       "        var display = window.getComputedStyle(gd).display;\n",
       "        if (!display || display === 'none') {{\n",
       "            console.log([gd, 'removed!']);\n",
       "            Plotly.purge(gd);\n",
       "            observer.disconnect();\n",
       "        }}\n",
       "}});\n",
       "\n",
       "// Listen for the removal of the full notebook cells\n",
       "var notebookContainer = gd.closest('#notebook-container');\n",
       "if (notebookContainer) {{\n",
       "    x.observe(notebookContainer, {childList: true});\n",
       "}}\n",
       "\n",
       "// Listen for the clearing of the current output cell\n",
       "var outputEl = gd.closest('.output');\n",
       "if (outputEl) {{\n",
       "    x.observe(outputEl, {childList: true});\n",
       "}}\n",
       "\n",
       "                        })                };                });            </script>        </div>"
      ]
     },
     "metadata": {},
     "output_type": "display_data"
    }
   ],
   "source": [
    "X = np.log(data['Confirmed'])\n",
    "Y = np.log(data['Populationdensity_2020'])\n",
    "\n",
    "fig = px.scatter(x=X, y=Y, opacity=0.65,\n",
    "    trendline='ols', trendline_color_override='darkred')\n",
    "\n",
    "fig.show()"
   ]
  },
  {
   "cell_type": "code",
   "execution_count": 65,
   "metadata": {},
   "outputs": [
    {
     "data": {
      "text/plain": [
       "0      11.006839\n",
       "1      11.140455\n",
       "2      11.558243\n",
       "3      10.984292\n",
       "4      10.342387\n",
       "         ...    \n",
       "409     9.044994\n",
       "410    10.965298\n",
       "411     9.286560\n",
       "412     9.390493\n",
       "413     9.867964\n",
       "Name: Confirmed, Length: 414, dtype: float64"
      ]
     },
     "execution_count": 65,
     "metadata": {},
     "output_type": "execute_result"
    }
   ],
   "source": [
    "import numpy as np\n",
    "np.log(data['Confirmed'])"
   ]
  },
  {
   "cell_type": "markdown",
   "metadata": {},
   "source": [
    "### Model: Multiple Linear Regression\n",
    "\n",
    "Multiple linear regression attempts to model the relationship between two or more features and a response by fitting a linear equation to observed data. Clearly, it is nothing but an extension of Simple linear regression.\n",
    "\n",
    "Consider a dataset with p features(or independent variables) and one response(or dependent variable).\n",
    "Also, the dataset contains n rows/observations."
   ]
  },
  {
   "cell_type": "code",
   "execution_count": 73,
   "metadata": {},
   "outputs": [
    {
     "name": "stdout",
     "output_type": "stream",
     "text": [
      "Coefficients: \n",
      " [ 9.47607040e-03  3.73582523e+00 -1.41413722e+03  1.41411445e+03\n",
      "  1.41411187e+03  5.16574200e-03  1.51836760e-02 -1.46949748e-02]\n",
      "Variance score: 0.5329910951504016\n"
     ]
    },
    {
     "data": {
      "image/png": "[encoded data removed]",
      "text/plain": [
       "<Figure size 432x288 with 1 Axes>"
      ]
     },
     "metadata": {},
     "output_type": "display_data"
    }
   ],
   "source": [
    "# load the boston dataset \n",
    "data \n",
    "\n",
    "# defining feature matrix(X) and response vector(y) \n",
    "X = data.drop(['State','District','Confirmed'], axis = 1) \n",
    "y = data.Confirmed \n",
    "\n",
    "# splitting X and y into training and testing sets \n",
    "from sklearn.model_selection import train_test_split \n",
    "X_train, X_test, y_train, y_test = train_test_split(X, y, test_size=0.4, \n",
    "\t\t\t\t\t\t\t\t\t\t\t\t\trandom_state=1) \n",
    "\n",
    "# create linear regression object \n",
    "reg = linear_model.LinearRegression() \n",
    "\n",
    "# train the model using the training sets \n",
    "reg.fit(X_train, y_train) \n",
    "\n",
    "# regression coefficients \n",
    "print('Coefficients: \\n', reg.coef_) \n",
    "\n",
    "# variance score: 1 means perfect prediction \n",
    "print('Variance score: {}'.format(reg.score(X_test, y_test))) \n",
    "\n",
    "# plot for residual error \n",
    "\n",
    "## setting plot style \n",
    "plt.style.use('fivethirtyeight') \n",
    "\n",
    "## plotting residual errors in training data \n",
    "plt.scatter(reg.predict(X_train), reg.predict(X_train) - y_train, \n",
    "\t\t\tcolor = \"green\", s = 10, label = 'Train data') \n",
    "\n",
    "## plotting residual errors in test data \n",
    "plt.scatter(reg.predict(X_test), reg.predict(X_test) - y_test, \n",
    "\t\t\tcolor = \"blue\", s = 10, label = 'Test data') \n",
    "\n",
    "## plotting line for zero residual error \n",
    "plt.hlines(y = 0, xmin = 0, xmax = 50, linewidth = 2) \n",
    "\n",
    "## plotting legend \n",
    "plt.legend(loc = 'upper right') \n",
    "\n",
    "## plot title \n",
    "plt.title(\"Residual errors\") \n",
    "\n",
    "## function to show plot \n",
    "plt.show() \n"
   ]
  },
  {
   "cell_type": "code",
   "execution_count": null,
   "metadata": {},
   "outputs": [],
   "source": []
  }
 ],
 "metadata": {
  "kernelspec": {
   "display_name": "Python 3",
   "language": "python",
   "name": "python3"
  },
  "language_info": {
   "codemirror_mode": {
    "name": "ipython",
    "version": 3
   },
   "file_extension": ".py",
   "mimetype": "text/x-python",
   "name": "python",
   "nbconvert_exporter": "python",
   "pygments_lexer": "ipython3",
   "version": "3.7.4"
  }
 },
 "nbformat": 4,
 "nbformat_minor": 2
}
